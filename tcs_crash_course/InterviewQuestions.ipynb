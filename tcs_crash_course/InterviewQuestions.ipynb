{
 "cells": [
  {
   "cell_type": "markdown",
   "id": "fdb4e1d2-bf89-478c-8dc1-d6b6b44ee1bd",
   "metadata": {},
   "source": [
    "# Interview Questions"
   ]
  },
  {
   "cell_type": "markdown",
   "id": "b7bfd46d-9d48-4026-9795-258399e55757",
   "metadata": {},
   "source": [
    "### 1. Difference between for loop and while loop in Python"
   ]
  },
  {
   "cell_type": "code",
   "execution_count": null,
   "id": "e712de80-150a-47e7-b9b0-ebfa27df9905",
   "metadata": {},
   "outputs": [],
   "source": [
    "For loop: Used when we know how many times to repeat, often with lists, tuples, sets, or dictionaries.\n",
    "While loop: Used when we only have an end condition and don’t know exactly how many times it will repeat.\n",
    "\n",
    "for i in range(5):\n",
    "    print(i)\n",
    "----------------\n",
    "c = 0\n",
    "while c < 5:\n",
    "    print(c)\n",
    "    c += 1\n",
    "for i in range(5):\n",
    "    print(i)\n",
    "​\n",
    "c = 0\n",
    "while c < 5:\n",
    "    print(c)\n",
    "    c += 1"
   ]
  },
  {
   "cell_type": "code",
   "execution_count": null,
   "id": "48792374-5a6b-4a92-9103-07afb2dbcd9d",
   "metadata": {},
   "outputs": [],
   "source": []
  }
 ],
 "metadata": {
  "kernelspec": {
   "display_name": "Python 3 (ipykernel)",
   "language": "python",
   "name": "python3"
  },
  "language_info": {
   "codemirror_mode": {
    "name": "ipython",
    "version": 3
   },
   "file_extension": ".py",
   "mimetype": "text/x-python",
   "name": "python",
   "nbconvert_exporter": "python",
   "pygments_lexer": "ipython3",
   "version": "3.13.5"
  }
 },
 "nbformat": 4,
 "nbformat_minor": 5
}
