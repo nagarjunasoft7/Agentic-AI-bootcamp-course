{
 "cells": [
  {
   "cell_type": "markdown",
   "id": "2608fe3a-5558-4e92-a82d-add758407c48",
   "metadata": {},
   "source": [
    "# While Loop"
   ]
  },
  {
   "cell_type": "code",
   "execution_count": 3,
   "id": "af7ef07f-b60a-4ddd-a9e5-def5c738499e",
   "metadata": {},
   "outputs": [
    {
     "name": "stdout",
     "output_type": "stream",
     "text": [
      "1\n",
      "2\n",
      "3\n",
      "4\n",
      "5\n"
     ]
    }
   ],
   "source": [
    "\n",
    "x = 0\n",
    "my_tuple = (1, 2, 3, 4,5)\n",
    "while x < len(my_tuple):\n",
    "    print(my_tuple[x])\n",
    "    x =x+1"
   ]
  },
  {
   "cell_type": "markdown",
   "id": "0d60797b-1357-4900-8e9e-7bd934596e97",
   "metadata": {},
   "source": [
    "# For Loop"
   ]
  },
  {
   "cell_type": "code",
   "execution_count": 6,
   "id": "fe89624e-5ae1-485c-bb97-2b8001cba4ab",
   "metadata": {},
   "outputs": [
    {
     "name": "stdout",
     "output_type": "stream",
     "text": [
      "1\n",
      "2\n",
      "3\n",
      "45\n",
      "68\n",
      "8\n"
     ]
    }
   ],
   "source": [
    "my_tuple = (1,2,3,45,68,8)\n",
    "for x in my_tuple:\n",
    "    print(x)\n",
    "    "
   ]
  },
  {
   "cell_type": "code",
   "execution_count": 7,
   "id": "b1b0ea7b-e047-4b42-897b-8d322eb36dce",
   "metadata": {},
   "outputs": [
    {
     "name": "stdout",
     "output_type": "stream",
     "text": [
      "1\n",
      "2\n",
      "3\n",
      "45\n",
      "68\n",
      "8\n"
     ]
    }
   ],
   "source": [
    "my_tuple = (1,2,3,45,68,8)\n",
    "for x in range(len(my_tuple)):\n",
    "    print(my_tuple[x])"
   ]
  },
  {
   "cell_type": "code",
   "execution_count": null,
   "id": "5bb8e7c6-d335-4daa-a05e-aa9620ba4ed0",
   "metadata": {},
   "outputs": [],
   "source": []
  }
 ],
 "metadata": {
  "kernelspec": {
   "display_name": "Python 3 (ipykernel)",
   "language": "python",
   "name": "python3"
  },
  "language_info": {
   "codemirror_mode": {
    "name": "ipython",
    "version": 3
   },
   "file_extension": ".py",
   "mimetype": "text/x-python",
   "name": "python",
   "nbconvert_exporter": "python",
   "pygments_lexer": "ipython3",
   "version": "3.13.5"
  }
 },
 "nbformat": 4,
 "nbformat_minor": 5
}
