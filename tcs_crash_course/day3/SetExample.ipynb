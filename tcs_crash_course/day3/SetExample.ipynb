{
 "cells": [
  {
   "cell_type": "markdown",
   "id": "586e1240-d70c-447c-868c-da014de93efd",
   "metadata": {},
   "source": [
    "# Set\n",
    "### A set is a collection which is unordered, unchangeable*, and unindexed. \n",
    "\n",
    "###### * Note: Set items are unchangeable, but you can remove items and add new items."
   ]
  },
  {
   "cell_type": "code",
   "execution_count": 4,
   "id": "b6fb0393-6707-4fd5-b7f8-540b196cef44",
   "metadata": {},
   "outputs": [
    {
     "data": {
      "text/plain": [
       "set"
      ]
     },
     "execution_count": 4,
     "metadata": {},
     "output_type": "execute_result"
    }
   ],
   "source": [
    "my_set = set()\n",
    "type(my_set)"
   ]
  },
  {
   "cell_type": "code",
   "execution_count": 5,
   "id": "d803f67b-4e08-4b1c-8b87-7a7d5b485ac1",
   "metadata": {},
   "outputs": [
    {
     "name": "stdout",
     "output_type": "stream",
     "text": [
      "set()\n"
     ]
    }
   ],
   "source": [
    "print(my_set)"
   ]
  },
  {
   "cell_type": "code",
   "execution_count": 7,
   "id": "cb97bd09-adab-427a-af64-0ad7685d32a7",
   "metadata": {},
   "outputs": [
    {
     "name": "stdout",
     "output_type": "stream",
     "text": [
      "{1}\n"
     ]
    }
   ],
   "source": [
    "my_set = {1}\n",
    "print(my_set)"
   ]
  },
  {
   "cell_type": "code",
   "execution_count": 8,
   "id": "3a1b7ef3-6a1f-43e3-926c-44c1bc5c8475",
   "metadata": {},
   "outputs": [
    {
     "name": "stdout",
     "output_type": "stream",
     "text": [
      "{1, 2}\n"
     ]
    }
   ],
   "source": [
    "my_set.add(2)\n",
    "print(my_set)"
   ]
  },
  {
   "cell_type": "code",
   "execution_count": 10,
   "id": "b72a71d7-065d-4e0c-9e15-8e5729ab0c68",
   "metadata": {},
   "outputs": [
    {
     "ename": "SyntaxError",
     "evalue": "unterminated string literal (detected at line 1) (1018922618.py, line 1)",
     "output_type": "error",
     "traceback": [
      "\u001b[1;36m  Cell \u001b[1;32mIn[10], line 1\u001b[1;36m\u001b[0m\n\u001b[1;33m    my_set.add(\"string')\u001b[0m\n\u001b[1;37m               ^\u001b[0m\n\u001b[1;31mSyntaxError\u001b[0m\u001b[1;31m:\u001b[0m unterminated string literal (detected at line 1)\n"
     ]
    }
   ],
   "source": [
    "my_set.add(\"string') #SyntaxError: unterminated string literal (detected at line 1)"
   ]
  },
  {
   "cell_type": "code",
   "execution_count": 11,
   "id": "a93b217d-0e4b-4087-92c8-d618c9cf4e49",
   "metadata": {},
   "outputs": [
    {
     "data": {
      "text/plain": [
       "{1, 2}"
      ]
     },
     "execution_count": 11,
     "metadata": {},
     "output_type": "execute_result"
    }
   ],
   "source": [
    "my_set"
   ]
  },
  {
   "cell_type": "code",
   "execution_count": 16,
   "id": "59e5777b-c31e-4839-9ea6-0fcf3a17553c",
   "metadata": {},
   "outputs": [
    {
     "data": {
      "text/plain": [
       "{1, 2, 3}"
      ]
     },
     "execution_count": 16,
     "metadata": {},
     "output_type": "execute_result"
    }
   ],
   "source": [
    "my_set = {1,2}\n",
    "my_set.add(3)\n",
    "my_set.add(2) #Duplciate doesn't allowed\n",
    "my_set"
   ]
  },
  {
   "cell_type": "code",
   "execution_count": 22,
   "id": "93902e93-260d-4f47-b6f4-ea4029aa758c",
   "metadata": {},
   "outputs": [
    {
     "name": "stdout",
     "output_type": "stream",
     "text": [
      "{1, 2, 3, 100, 4, 5}\n"
     ]
    }
   ],
   "source": [
    "my_list = [100, 4, 1,1,1,2,3,4,5,2,2,2,1]\n",
    "print(set(my_list)) # remvoes doesn't from the list and set does not have order"
   ]
  },
  {
   "cell_type": "code",
   "execution_count": 23,
   "id": "816e2360-057a-4754-844f-c1e83655dc9b",
   "metadata": {},
   "outputs": [
    {
     "name": "stdout",
     "output_type": "stream",
     "text": [
      "{'p', 'M', 'i', 's'}\n"
     ]
    }
   ],
   "source": [
    "print(set('Mississippi')) #removes duplicate chars "
   ]
  },
  {
   "cell_type": "markdown",
   "id": "855165b4-ca2f-44ab-9f84-5b8c8d88d883",
   "metadata": {},
   "source": [
    "# Methods"
   ]
  },
  {
   "cell_type": "markdown",
   "id": "7c1dc473-70c4-4fe4-94f7-98e2001d0a46",
   "metadata": {},
   "source": [
    "#### Join set1 and set2 into a new set:"
   ]
  },
  {
   "cell_type": "code",
   "execution_count": 25,
   "id": "f6a5a64c-8b83-4464-8c1b-f355cce8c610",
   "metadata": {},
   "outputs": [
    {
     "name": "stdout",
     "output_type": "stream",
     "text": [
      "{'a', 1, 2, 3, 'c', 'b'}\n"
     ]
    }
   ],
   "source": [
    "set1 = {\"a\", \"b\", \"c\"}\n",
    "set2 = {1, 2, 3}\n",
    "\n",
    "set3 = set1.union(set2)\n",
    "print(set3)"
   ]
  },
  {
   "cell_type": "markdown",
   "id": "7a0f0572-ce11-4214-9907-348518a70669",
   "metadata": {},
   "source": [
    "##### You can use the | operator instead of the union() method, and you will get the same result."
   ]
  },
  {
   "cell_type": "code",
   "execution_count": 26,
   "id": "1fc83972-6340-4229-ad6e-2acfea8d1908",
   "metadata": {},
   "outputs": [
    {
     "name": "stdout",
     "output_type": "stream",
     "text": [
      "{'a', 1, 2, 3, 'c', 'b'}\n"
     ]
    }
   ],
   "source": [
    "set1 = {\"a\", \"b\", \"c\"}\n",
    "set2 = {1, 2, 3}\n",
    "\n",
    "set3 = set1 | set2\n",
    "print(set3)"
   ]
  },
  {
   "cell_type": "code",
   "execution_count": 31,
   "id": "dd14bc01-2226-4ff5-b092-6cee5a4ded1b",
   "metadata": {},
   "outputs": [
    {
     "name": "stdout",
     "output_type": "stream",
     "text": [
      "{1, 2, 3, 'c', 'cherry', 'Elena', 'a', 'b', 'apple', 'John', 'bananas'}\n"
     ]
    }
   ],
   "source": [
    "set1 = {\"a\", \"b\", \"c\"}\n",
    "set2 = {1, 2, 3}\n",
    "set3 = {\"John\", \"Elena\"}\n",
    "set4 = {\"apple\", \"bananas\", \"cherry\"}\n",
    "\n",
    "myset = set1.union(set2, set3, set4)\n",
    "print(myset)"
   ]
  },
  {
   "cell_type": "code",
   "execution_count": 32,
   "id": "f59a0ee5-2690-40d9-8d7f-7acb3cffb751",
   "metadata": {},
   "outputs": [
    {
     "name": "stdout",
     "output_type": "stream",
     "text": [
      "{1, 2, 3, 'c', 'cherry', 'Elena', 'a', 'b', 'apple', 'John', 'bananas'}\n"
     ]
    }
   ],
   "source": [
    "set1 = {\"a\", \"b\", \"c\"}\n",
    "set2 = {1, 2, 3}\n",
    "set3 = {\"John\", \"Elena\"}\n",
    "set4 = {\"apple\", \"bananas\", \"cherry\"}\n",
    "\n",
    "myset = set1 | set2 | set3 |set4\n",
    "print(myset)"
   ]
  },
  {
   "cell_type": "markdown",
   "id": "8d55b77c-cafa-40cc-8b39-7fac7f3af778",
   "metadata": {},
   "source": [
    "### The update() method inserts all items from one set into another.\n",
    "\n",
    "#### The update() changes the original set, and does not return a new set."
   ]
  },
  {
   "cell_type": "code",
   "execution_count": 41,
   "id": "ce742867-1059-4261-90b5-55eee9286a23",
   "metadata": {},
   "outputs": [
    {
     "name": "stdout",
     "output_type": "stream",
     "text": [
      "{1, 2, 4, 5}\n",
      "{'two', 'one'}\n",
      "\n",
      "{1, 2, 'two', 4, 5, 'one'}\n",
      "{'two', 'one'}\n"
     ]
    }
   ],
   "source": [
    "set1 ={1,2,4,5}\n",
    "set2 = {'one','two'}\n",
    "print(set1)\n",
    "print(set2)\n",
    "print()\n",
    "set1.update(set2) # it does not return any set\n",
    "print(set1)\n",
    "print(set2)"
   ]
  },
  {
   "cell_type": "code",
   "execution_count": 43,
   "id": "01dde288-ab78-417c-95b3-2ebc25ca3068",
   "metadata": {},
   "outputs": [
    {
     "name": "stdout",
     "output_type": "stream",
     "text": [
      "{1, 2, 4, 5}\n",
      "{'two', 'one'}\n",
      "\n",
      "{1, 2, 4, 5}\n",
      "{'two', 'one'}\n",
      "{1, 2, 'two', 4, 5, 'one'}\n"
     ]
    }
   ],
   "source": [
    "set1 ={1,2,4,5}\n",
    "set2 = {'one','two'}\n",
    "print(set1)\n",
    "print(set2)\n",
    "print()\n",
    "set3 = set1.union(set2) # it does not return any set\n",
    "print(set1)\n",
    "print(set2)\n",
    "print(set3)"
   ]
  },
  {
   "cell_type": "code",
   "execution_count": 45,
   "id": "193bc0f6-c38b-4324-88a5-4e370af0b60b",
   "metadata": {},
   "outputs": [
    {
     "data": {
      "text/plain": [
       "'\\n    Set Methods\\n    Python has a set of built-in methods that you can use on sets.\\n    \\n    Method\\t\\t(Symbol)\\tDescription\\n    ---------------------------------\\n    add()\\t \\t        \\tAdds an element to the set (no Symbol)\\n    clear()\\t \\t\\t\\t\\tRemoves all the elements from the set (no Symbol)\\n    copy()\\t \\t\\t\\t\\tReturns a copy of the set(no Symbol)\\n    difference()\\t-\\t\\tReturns a set containing the difference between two or more sets\\n    difference_update()\\t-=\\tRemoves the items in this set that are also included in another, specified set\\n    discard()\\t \\t\\t\\tRemove the specified item (no Symbol)\\n    intersection()\\t&\\t\\tReturns a set, that is the intersection of two other sets\\n    intersection_update()\\t&=\\t\\tRemoves the items in this set that are not present \\n\\t\\t\\t\\t\\t\\t\\t\\t\\tin other,specified set(s)\\n                                    \\n    isdisjoint()\\t \\t\\tReturns whether two sets have a intersection or not(no Symbol)\\n    \\n    issubset()\\t\\t<=\\tReturns True if all items of this set is present in another set\\n\\t\\t\\t\\t\\t<\\tReturns True if all items of this set is present in another, larger set\\n\\t\\t\\t\\t\\t\\n    issuperset()\\t>=\\tReturns True if all items of another set is present in this set\\n\\t\\t\\t\\t\\t>\\tReturns True if all items of another, smaller set is present in this set\\n\\t\\t\\t\\t\\t\\n    pop()\\t \\t\\t\\tRemoves an element from the set(no Symbol)\\n    remove()\\t \\t\\tRemoves the specified element(no Symbol)\\n    symmetric_difference()\\t\\t\\t^\\tReturns a set with the symmetric differences of two sets\\n    symmetric_difference_update()\\t^=\\tInserts the symmetric differences from this set and another\\n    union()\\t\\t\\t\\t\\t\\t\\t|\\tReturn a set containing the union of sets\\n    update()\\t\\t\\t\\t\\t\\t|=\\tUpdate the set with the union of this set and others\\n\\n'"
      ]
     },
     "execution_count": 45,
     "metadata": {},
     "output_type": "execute_result"
    }
   ],
   "source": [
    "\"\"\"\n",
    "    Set Methods\n",
    "    Python has a set of built-in methods that you can use on sets.\n",
    "    \n",
    "    Method\t\t(Symbol)\tDescription\n",
    "    ---------------------------------\n",
    "    add()\t \t        \tAdds an element to the set (no Symbol)\n",
    "    clear()\t \t\t\t\tRemoves all the elements from the set (no Symbol)\n",
    "    copy()\t \t\t\t\tReturns a copy of the set(no Symbol)\n",
    "    difference()\t-\t\tReturns a set containing the difference between two or more sets\n",
    "    difference_update()\t-=\tRemoves the items in this set that are also included in another, specified set\n",
    "    discard()\t \t\t\tRemove the specified item (no Symbol)\n",
    "    intersection()\t&\t\tReturns a set, that is the intersection (common) of two other sets \n",
    "    intersection_update()\t&=\t\tRemoves the items in this set that are not present \n",
    "\t\t\t\t\t\t\t\t\tin other,specified set(s)\n",
    "                                    \n",
    "    isdisjoint()\t \t\tReturns whether two sets have a intersection or not(no Symbol)\n",
    "    \n",
    "    issubset()\t\t<=\tReturns True if all items of this set is present in another set\n",
    "\t\t\t\t\t<\tReturns True if all items of this set is present in another, larger set\n",
    "\t\t\t\t\t\n",
    "    issuperset()\t>=\tReturns True if all items of another set is present in this set\n",
    "\t\t\t\t\t>\tReturns True if all items of another, smaller set is present in this set\n",
    "\t\t\t\t\t\n",
    "    pop()\t \t\t\tRemoves an element from the set(no Symbol)\n",
    "    remove()\t \t\tRemoves the specified element(no Symbol)\n",
    "    symmetric_difference()\t\t\t^\tReturns a set with the symmetric differences of two sets\n",
    "    symmetric_difference_update()\t^=\tInserts the symmetric differences from this set and another\n",
    "    union()\t\t\t\t\t\t\t|\tReturn a set containing the union of sets\n",
    "    update()\t\t\t\t\t\t|=\tUpdate the set with the union of this set and others\n",
    "\n",
    "\"\"\""
   ]
  },
  {
   "cell_type": "code",
   "execution_count": 46,
   "id": "57ad2426-5a26-4bbe-9586-31b005ddb48c",
   "metadata": {},
   "outputs": [
    {
     "name": "stdout",
     "output_type": "stream",
     "text": [
      "{5, 7}\n"
     ]
    }
   ],
   "source": [
    "set1 = {1,2,3,5,7}\n",
    "set2 = {5,7,8,9}\n",
    "set3 = set1.intersection(set2)\n",
    "print(set3)"
   ]
  },
  {
   "cell_type": "code",
   "execution_count": null,
   "id": "439b0154-7f07-400d-981a-e6624f12111c",
   "metadata": {},
   "outputs": [],
   "source": []
  }
 ],
 "metadata": {
  "kernelspec": {
   "display_name": "Python 3 (ipykernel)",
   "language": "python",
   "name": "python3"
  },
  "language_info": {
   "codemirror_mode": {
    "name": "ipython",
    "version": 3
   },
   "file_extension": ".py",
   "mimetype": "text/x-python",
   "name": "python",
   "nbconvert_exporter": "python",
   "pygments_lexer": "ipython3",
   "version": "3.13.5"
  }
 },
 "nbformat": 4,
 "nbformat_minor": 5
}
