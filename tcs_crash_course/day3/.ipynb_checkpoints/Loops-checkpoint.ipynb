{
 "cells": [
  {
   "cell_type": "markdown",
   "id": "2608fe3a-5558-4e92-a82d-add758407c48",
   "metadata": {},
   "source": [
    "# While Loop"
   ]
  },
  {
   "cell_type": "code",
   "execution_count": 54,
   "id": "a9c142d6-d6fd-45ec-9c1b-ec67d82cd96f",
   "metadata": {},
   "outputs": [
    {
     "data": {
      "text/plain": [
       "'\\n\\nwhile any_boolean_condtion:\\n    # Do something\\n     \\n'"
      ]
     },
     "execution_count": 54,
     "metadata": {},
     "output_type": "execute_result"
    }
   ],
   "source": [
    "'''\n",
    "\n",
    "while any_boolean_condtion:\n",
    "    # Do something\n",
    "     \n",
    "'''\n",
    "\n",
    "OR\n",
    "'''\n",
    "\n",
    "while any_boolean_condtion:\n",
    "    # Do something\n",
    "\n",
    "else:\n",
    "    # do soemthign else\n",
    "     \n",
    "'''\n",
    "\n"
   ]
  },
  {
   "cell_type": "code",
   "execution_count": 3,
   "id": "af7ef07f-b60a-4ddd-a9e5-def5c738499e",
   "metadata": {},
   "outputs": [
    {
     "name": "stdout",
     "output_type": "stream",
     "text": [
      "1\n",
      "2\n",
      "3\n",
      "4\n",
      "5\n"
     ]
    }
   ],
   "source": [
    "\n",
    "x = 0\n",
    "my_tuple = (1, 2, 3, 4,5)\n",
    "while x < len(my_tuple):\n",
    "    print(my_tuple[x])\n",
    "    x =x+1"
   ]
  },
  {
   "cell_type": "markdown",
   "id": "b58fc967-3549-43dc-8689-5e2d9492aee3",
   "metadata": {},
   "source": [
    "#  Indentation is very importance for both While and For loops. IncompleteInputError: incomplete input"
   ]
  },
  {
   "cell_type": "code",
   "execution_count": 56,
   "id": "de8634d2-ceee-4a78-8c27-e720039c1636",
   "metadata": {},
   "outputs": [
    {
     "ename": "_IncompleteInputError",
     "evalue": "incomplete input (1063136690.py, line 4)",
     "output_type": "error",
     "traceback": [
      "\u001b[1;36m  Cell \u001b[1;32mIn[56], line 4\u001b[1;36m\u001b[0m\n\u001b[1;33m    \u001b[0m\n\u001b[1;37m    ^\u001b[0m\n\u001b[1;31m_IncompleteInputError\u001b[0m\u001b[1;31m:\u001b[0m incomplete input\n"
     ]
    }
   ],
   "source": [
    "\n",
    "x = 0\n",
    "my_tuple = (1, 2, 3, 4,5)\n",
    "while x < len(my_tuple):\n",
    "    "
   ]
  },
  {
   "cell_type": "code",
   "execution_count": null,
   "id": "a0a236fb-3edc-4440-8d74-9a97633eedd6",
   "metadata": {},
   "outputs": [],
   "source": [
    "\n",
    "x = 0\n",
    "my_tuple = (1, 2, 3, 4,5)\n",
    "while x < len(my_tuple):\n",
    "    pass\n",
    "print('pass')    "
   ]
  },
  {
   "cell_type": "markdown",
   "id": "5a5e1fa0-c094-4d27-b0c3-1601a5e6ad87",
   "metadata": {},
   "source": [
    "### The pass statement in Python is a null operation, meaning it does nothing. Its primary use is as a placeholder in situations where a statement is syntactically required but no action needs to be performed, or when the implementation of a code block is not yet defined."
   ]
  },
  {
   "cell_type": "code",
   "execution_count": null,
   "id": "2b996187-3983-41cd-8a91-ccdbae486810",
   "metadata": {},
   "outputs": [],
   "source": []
  },
  {
   "cell_type": "markdown",
   "id": "0d60797b-1357-4900-8e9e-7bd934596e97",
   "metadata": {},
   "source": [
    "# For Loop"
   ]
  },
  {
   "cell_type": "code",
   "execution_count": null,
   "id": "423e5105-a8d9-4c9b-bc7f-b8656ead66d4",
   "metadata": {},
   "outputs": [],
   "source": [
    "'''\n",
    "\n",
    "my_iterable = [1,2,3,4]\n",
    "for item_name in my_iterable:\n",
    "     print(item_name)\n",
    "     \n",
    "'''"
   ]
  },
  {
   "cell_type": "code",
   "execution_count": 6,
   "id": "fe89624e-5ae1-485c-bb97-2b8001cba4ab",
   "metadata": {},
   "outputs": [
    {
     "name": "stdout",
     "output_type": "stream",
     "text": [
      "1\n",
      "2\n",
      "3\n",
      "45\n",
      "68\n",
      "8\n"
     ]
    }
   ],
   "source": [
    "my_tuple = (1,2,3,45,68,8)\n",
    "for x in my_tuple:\n",
    "    print(x)\n",
    "    "
   ]
  },
  {
   "cell_type": "code",
   "execution_count": 7,
   "id": "b1b0ea7b-e047-4b42-897b-8d322eb36dce",
   "metadata": {},
   "outputs": [
    {
     "name": "stdout",
     "output_type": "stream",
     "text": [
      "1\n",
      "2\n",
      "3\n",
      "45\n",
      "68\n",
      "8\n"
     ]
    }
   ],
   "source": [
    "my_tuple = (1,2,3,45,68,8)\n",
    "for x in range(len(my_tuple)):\n",
    "    print(my_tuple[x])"
   ]
  },
  {
   "cell_type": "code",
   "execution_count": 55,
   "id": "5bb8e7c6-d335-4daa-a05e-aa9620ba4ed0",
   "metadata": {},
   "outputs": [
    {
     "name": "stdout",
     "output_type": "stream",
     "text": [
      "1\n",
      "2\n",
      "3\n",
      "45\n",
      "68\n",
      "8\n"
     ]
    }
   ],
   "source": [
    "my_tuple = (1,2,3,45,68,8)\n",
    "for x in my_tuple:\n",
    "    print(x)\n",
    "    "
   ]
  },
  {
   "cell_type": "code",
   "execution_count": 10,
   "id": "2169a75d-4fa2-4938-8d71-4c30e2d6d77b",
   "metadata": {},
   "outputs": [
    {
     "name": "stdout",
     "output_type": "stream",
     "text": [
      "unknown\n",
      "unknown\n",
      "unknown\n",
      "unknown\n",
      "unknown\n",
      "unknown\n"
     ]
    }
   ],
   "source": [
    "my_tuple = (1,2,3,45,68,8)\n",
    "for x in my_tuple:\n",
    "    print('unknown')\n",
    "    "
   ]
  },
  {
   "cell_type": "code",
   "execution_count": null,
   "id": "d7dc6679-ce38-48dc-b674-36002ae9a636",
   "metadata": {},
   "outputs": [],
   "source": [
    "my_list = [1,2,3,4,5,6,7,8,9]\n",
    "for num in my_list:\n",
    "    pass\n",
    "    \n",
    "print('passed')"
   ]
  },
  {
   "cell_type": "markdown",
   "id": "5ef87e78-ce82-463c-ad16-12c904f20e08",
   "metadata": {},
   "source": [
    "# Find the Even numbers and odd numbers"
   ]
  },
  {
   "cell_type": "code",
   "execution_count": 17,
   "id": "802cc2bd-b820-467e-9b8c-c092bb3541c9",
   "metadata": {},
   "outputs": [
    {
     "name": "stdout",
     "output_type": "stream",
     "text": [
      "1 is odd\n",
      "2 is even\n",
      "3 is odd\n",
      "4 is even\n",
      "5 is odd\n",
      "6 is even\n",
      "7 is odd\n",
      "8 is even\n",
      "9 is odd\n"
     ]
    }
   ],
   "source": [
    "my_list = [1,2,3,4,5,6,7,8,9]\n",
    "for num in my_list:\n",
    "    if(num%2==0):\n",
    "        print('{} is even'.format(num))\n",
    "    else:\n",
    "         print('{} is odd'.format(num))"
   ]
  },
  {
   "cell_type": "markdown",
   "id": "208ac38f-565d-48a7-9c12-d09bc7010bed",
   "metadata": {},
   "source": [
    "# Find the sum of the given list"
   ]
  },
  {
   "cell_type": "code",
   "execution_count": 19,
   "id": "10139005-5933-45cb-8b45-0b5aa3ae165d",
   "metadata": {},
   "outputs": [
    {
     "name": "stdout",
     "output_type": "stream",
     "text": [
      "45\n"
     ]
    }
   ],
   "source": [
    "sum = 0\n",
    "my_list = [1,2,3,4,5,6,7,8,9]\n",
    "for num in my_list:\n",
    "   sum = sum+num\n",
    "print(sum)"
   ]
  },
  {
   "cell_type": "code",
   "execution_count": 22,
   "id": "d4179e00-d2fc-4482-8ad7-75ac4288389d",
   "metadata": {},
   "outputs": [
    {
     "name": "stdout",
     "output_type": "stream",
     "text": [
      "1\n",
      "---\n",
      "3\n",
      "---\n",
      "6\n",
      "---\n",
      "10\n",
      "---\n",
      "15\n",
      "---\n",
      "21\n",
      "---\n",
      "28\n",
      "---\n",
      "36\n",
      "---\n",
      "45\n",
      "---\n",
      "45\n"
     ]
    }
   ],
   "source": [
    "sum = 0\n",
    "my_list = [1,2,3,4,5,6,7,8,9]\n",
    "for num in my_list:\n",
    "   sum = sum+num\n",
    "   print(sum)\n",
    "   print('---') \n",
    "print(sum)"
   ]
  },
  {
   "cell_type": "code",
   "execution_count": 25,
   "id": "5ba32250-53be-41f9-ab04-06828c09501d",
   "metadata": {},
   "outputs": [
    {
     "name": "stdout",
     "output_type": "stream",
     "text": [
      "H\n",
      "E\n",
      "L\n",
      "L\n",
      "O\n"
     ]
    }
   ],
   "source": [
    "word ='HELLO'\n",
    "for i in word:\n",
    "    print(i)"
   ]
  },
  {
   "cell_type": "code",
   "execution_count": 28,
   "id": "40eaa52c-c080-405e-960e-eb45df37e795",
   "metadata": {},
   "outputs": [
    {
     "name": "stdout",
     "output_type": "stream",
     "text": [
      "H\n",
      "E\n",
      "L\n",
      "L\n",
      "O\n"
     ]
    }
   ],
   "source": [
    "for i in 'HELLO':\n",
    "    print(i)"
   ]
  },
  {
   "cell_type": "code",
   "execution_count": 32,
   "id": "8e053b7f-cd97-4395-8f63-639a1a02adc4",
   "metadata": {},
   "outputs": [
    {
     "name": "stdout",
     "output_type": "stream",
     "text": [
      "not used the item name\n",
      "not used the item name\n",
      "not used the item name\n",
      "not used the item name\n",
      "not used the item name\n"
     ]
    }
   ],
   "source": [
    "for i in 'HELLO':\n",
    "    print('not used the item name' )"
   ]
  },
  {
   "cell_type": "code",
   "execution_count": null,
   "id": "83591908-6675-4948-a7a0-199281f70d4e",
   "metadata": {},
   "outputs": [],
   "source": [
    "# so if we are not using the item_name inside the for loop, we can simply use  underscore(_)"
   ]
  },
  {
   "cell_type": "code",
   "execution_count": 33,
   "id": "96f6dcdb-fae8-4222-ac58-29d7d54c756e",
   "metadata": {},
   "outputs": [
    {
     "name": "stdout",
     "output_type": "stream",
     "text": [
      "not used the item name\n",
      "not used the item name\n",
      "not used the item name\n",
      "not used the item name\n",
      "not used the item name\n"
     ]
    }
   ],
   "source": [
    "for _ in 'HELLO':\n",
    "    print('not used the item name' )"
   ]
  },
  {
   "cell_type": "code",
   "execution_count": 41,
   "id": "8db2bac8-8e7a-452e-908a-4ed83ccdc902",
   "metadata": {},
   "outputs": [
    {
     "data": {
      "text/plain": [
       "4"
      ]
     },
     "execution_count": 41,
     "metadata": {},
     "output_type": "execute_result"
    }
   ],
   "source": [
    "my_tuple_list = [(1,3,),(2,3,),(4,5,),(6,7)]\n",
    "len(my_tuple_list)"
   ]
  },
  {
   "cell_type": "code",
   "execution_count": 34,
   "id": "209e30c1-2c2c-4782-91c2-dbad9e6e06a9",
   "metadata": {},
   "outputs": [
    {
     "name": "stdout",
     "output_type": "stream",
     "text": [
      "(1, 3)\n",
      "(2, 3)\n",
      "(4, 5)\n",
      "(6, 7)\n"
     ]
    }
   ],
   "source": [
    "my_tuple_list = [(1,3,),(2,3,),(4,5,),(6,7)]\n",
    "for item in my_tuple_list:\n",
    "    print(item)"
   ]
  },
  {
   "cell_type": "code",
   "execution_count": 35,
   "id": "96a4004f-8c54-438e-ad1f-c0171a68788f",
   "metadata": {},
   "outputs": [
    {
     "name": "stdout",
     "output_type": "stream",
     "text": [
      "{1, 3}\n",
      "{2, 3}\n",
      "{4, 5}\n",
      "{6, 7}\n"
     ]
    }
   ],
   "source": [
    "my_tuple_list = [{1,3,},{2,3},{4,5},{6,7}]\n",
    "for item in my_tuple_list:\n",
    "    print(item)"
   ]
  },
  {
   "cell_type": "code",
   "execution_count": 39,
   "id": "4c6926d7-8405-4cff-86dd-6bf279a788c5",
   "metadata": {},
   "outputs": [
    {
     "name": "stdout",
     "output_type": "stream",
     "text": [
      "1\n",
      "3\n",
      "2\n",
      "3\n",
      "4\n",
      "5\n",
      "6\n",
      "7\n"
     ]
    }
   ],
   "source": [
    "my_tuple_list = [(1,3,),(2,3,),(4,5,),(6,7)]\n",
    "for a,b in my_tuple_list:\n",
    "    print(a)\n",
    "    print(b)"
   ]
  },
  {
   "cell_type": "code",
   "execution_count": 42,
   "id": "5355bc2f-ee3c-4ee6-906b-7588a83b976c",
   "metadata": {},
   "outputs": [
    {
     "name": "stdout",
     "output_type": "stream",
     "text": [
      "5\n",
      "4\n",
      "4\n",
      "5\n"
     ]
    }
   ],
   "source": [
    "my_tuple_list = [(1,3,5),(2,3,4),(4,5,4),(6,7,5)]\n",
    "for a,b,c in my_tuple_list:\n",
    "    print(c)"
   ]
  },
  {
   "cell_type": "code",
   "execution_count": 46,
   "id": "2bdd960d-9763-44fd-aee2-9dfa8434692f",
   "metadata": {},
   "outputs": [
    {
     "name": "stdout",
     "output_type": "stream",
     "text": [
      "key1\n",
      "key2\n",
      "key3\n"
     ]
    }
   ],
   "source": [
    "\n",
    "my_dict = {'key1':1,'key2':2,'key3':3 }\n",
    "for item in my_dict:\n",
    "    print(item)"
   ]
  },
  {
   "cell_type": "code",
   "execution_count": 47,
   "id": "85e67106-2106-4c63-8fca-9945be73750a",
   "metadata": {},
   "outputs": [
    {
     "name": "stdout",
     "output_type": "stream",
     "text": [
      "('key1', 1)\n",
      "('key2', 2)\n",
      "('key3', 3)\n"
     ]
    }
   ],
   "source": [
    "\n",
    "my_dict = {'key1':1,'key2':2,'key3':3 }\n",
    "for item in my_dict.items():\n",
    "    print(item)"
   ]
  },
  {
   "cell_type": "code",
   "execution_count": 49,
   "id": "3ea56b4f-72b2-4973-b376-84fa6ba67163",
   "metadata": {},
   "outputs": [
    {
     "name": "stdout",
     "output_type": "stream",
     "text": [
      "1\n",
      "2\n",
      "3\n"
     ]
    }
   ],
   "source": [
    "\n",
    "my_dict = {'key1':1,'key2':2,'key3':3 }\n",
    "for item in my_dict.values():\n",
    "    print(item)"
   ]
  },
  {
   "cell_type": "code",
   "execution_count": null,
   "id": "e8a28ba8-d61e-4644-9530-d3b053f04e2a",
   "metadata": {},
   "outputs": [],
   "source": []
  }
 ],
 "metadata": {
  "kernelspec": {
   "display_name": "Python 3 (ipykernel)",
   "language": "python",
   "name": "python3"
  },
  "language_info": {
   "codemirror_mode": {
    "name": "ipython",
    "version": 3
   },
   "file_extension": ".py",
   "mimetype": "text/x-python",
   "name": "python",
   "nbconvert_exporter": "python",
   "pygments_lexer": "ipython3",
   "version": "3.13.5"
  }
 },
 "nbformat": 4,
 "nbformat_minor": 5
}
