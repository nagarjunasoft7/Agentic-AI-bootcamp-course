{
 "cells": [
  {
   "cell_type": "code",
   "execution_count": 1,
   "id": "8adf19da-0db8-4310-9131-caeb3c42507e",
   "metadata": {},
   "outputs": [
    {
     "name": "stdout",
     "output_type": "stream",
     "text": [
      "0\n",
      "1\n",
      "2\n"
     ]
    }
   ],
   "source": [
    "class MyIterator:\n",
    "    def __init__(self):\n",
    "        self.n = 0\n",
    "\n",
    "    def __iter__(self):\n",
    "        return self\n",
    "\n",
    "    def __next__(self):\n",
    "        if self.n < 3:\n",
    "            val = self.n\n",
    "            self.n += 1\n",
    "            return val\n",
    "        else:\n",
    "            raise StopIteration\n",
    "\n",
    "it = MyIterator()\n",
    "for i in it:\n",
    "    print(i)\n"
   ]
  },
  {
   "cell_type": "code",
   "execution_count": 2,
   "id": "075858cb-274c-4794-9f65-dd89389a7f92",
   "metadata": {},
   "outputs": [
    {
     "name": "stdout",
     "output_type": "stream",
     "text": [
      "2\n",
      "2\n",
      "3\n",
      "2\n"
     ]
    }
   ],
   "source": [
    "class class1:\n",
    "    a = 1\n",
    "\n",
    "    def f1():\n",
    "        a = 2\n",
    "        class1.a += 1\n",
    "        print(class1.a)\n",
    "        print(a)\n",
    "\n",
    "class1.f1()\n",
    "class1.f1()\n"
   ]
  },
  {
   "cell_type": "code",
   "execution_count": 77,
   "id": "0e49b254-7474-4a10-a040-f007f3a1fb58",
   "metadata": {},
   "outputs": [
    {
     "ename": "NameError",
     "evalue": "name 'warnings' is not defined",
     "output_type": "error",
     "traceback": [
      "\u001b[1;31m---------------------------------------------------------------------------\u001b[0m",
      "\u001b[1;31mNameError\u001b[0m                                 Traceback (most recent call last)",
      "Cell \u001b[1;32mIn[77], line 12\u001b[0m\n\u001b[0;32m      9\u001b[0m     \u001b[38;5;124m'\u001b[39m\u001b[38;5;124mReturns product of two numbers\u001b[39m\u001b[38;5;124m'\u001b[39m\n\u001b[0;32m     10\u001b[0m     \u001b[38;5;28;01mreturn\u001b[39;00m x \u001b[38;5;241m*\u001b[39m y\n\u001b[1;32m---> 12\u001b[0m \u001b[38;5;28mprint\u001b[39m(prod(\u001b[38;5;241m12\u001b[39m, \u001b[38;5;241m12\u001b[39m))\n\u001b[0;32m     13\u001b[0m \u001b[38;5;28mprint\u001b[39m(prod\u001b[38;5;241m.\u001b[39m\u001b[38;5;18m__name__\u001b[39m)\n\u001b[0;32m     14\u001b[0m \u001b[38;5;28mprint\u001b[39m(prod\u001b[38;5;241m.\u001b[39m\u001b[38;5;18m__doc__\u001b[39m)\n",
      "Cell \u001b[1;32mIn[77], line 3\u001b[0m, in \u001b[0;36mdeprecated.<locals>.newFunc\u001b[1;34m(*args, **kwargs)\u001b[0m\n\u001b[0;32m      2\u001b[0m \u001b[38;5;28;01mdef\u001b[39;00m\u001b[38;5;250m \u001b[39m\u001b[38;5;21mnewFunc\u001b[39m(\u001b[38;5;241m*\u001b[39margs, \u001b[38;5;241m*\u001b[39m\u001b[38;5;241m*\u001b[39mkwargs):\n\u001b[1;32m----> 3\u001b[0m     warnings\u001b[38;5;241m.\u001b[39mwarn(\u001b[38;5;124m'\u001b[39m\u001b[38;5;124mCall to deprecated function \u001b[39m\u001b[38;5;132;01m{}\u001b[39;00m\u001b[38;5;124m'\u001b[39m\u001b[38;5;241m.\u001b[39mformat(func\u001b[38;5;241m.\u001b[39m\u001b[38;5;18m__name__\u001b[39m), category\u001b[38;5;241m=\u001b[39m\u001b[38;5;167;01mDeprecationWarning\u001b[39;00m)\n\u001b[0;32m      4\u001b[0m     \u001b[38;5;28;01mreturn\u001b[39;00m func(\u001b[38;5;241m*\u001b[39margs, \u001b[38;5;241m*\u001b[39m\u001b[38;5;241m*\u001b[39mkwargs)\n",
      "\u001b[1;31mNameError\u001b[0m: name 'warnings' is not defined"
     ]
    }
   ],
   "source": [
    "\n",
    "def deprecated(func):\n",
    "    def newFunc(*args, **kwargs):\n",
    "        warnings.warn('Call to deprecated function {}'.format(func.__name__), category=DeprecationWarning)\n",
    "        return func(*args, **kwargs)\n",
    "    return newFunc\n",
    "\n",
    "@deprecated\n",
    "def prod(x, y):\n",
    "    'Returns product of two numbers'\n",
    "    return x * y\n",
    "\n",
    "print(prod(12, 12))\n",
    "print(prod.__name__)\n",
    "print(prod.__doc__)"
   ]
  },
  {
   "cell_type": "code",
   "execution_count": 12,
   "id": "286a91e0-50a5-420d-ac03-71f8941b7efc",
   "metadata": {},
   "outputs": [
    {
     "name": "stdout",
     "output_type": "stream",
     "text": [
      "Entering the context\n",
      "Inside the with block\n",
      "Exiting the context\n"
     ]
    }
   ],
   "source": [
    "class MyContext:\n",
    "    def __enter__(self):\n",
    "        print(\"Entering the context\")\n",
    "        return self\n",
    "    \n",
    "    def __exit__(self, exc_type, exc_value, traceback):\n",
    "        print(\"Exiting the context\")\n",
    "\n",
    "with MyContext():\n",
    "    print(\"Inside the with block\")\n"
   ]
  },
  {
   "cell_type": "code",
   "execution_count": 14,
   "id": "b72c2957-3f6a-4879-8ceb-be59227d5380",
   "metadata": {},
   "outputs": [
    {
     "name": "stdout",
     "output_type": "stream",
     "text": [
      "(<class '__main__.child'>, <class '__main__.mother'>, <class '__main__.father'>, <class '__main__.grandpa'>, <class 'object'>)\n"
     ]
    }
   ],
   "source": [
    "class grandpa (object):\n",
    "\n",
    "    pass\n",
    "\n",
    "class father (grandpa):\n",
    "\n",
    "    pass\n",
    "\n",
    "class mother(object):\n",
    "\n",
    "    pass\n",
    "\n",
    "class child(mother, father):\n",
    "\n",
    "    pass\n",
    "\n",
    "print(child.__mro__)"
   ]
  },
  {
   "cell_type": "code",
   "execution_count": 15,
   "id": "c270b5dc-0124-4f40-a5ec-2ec56e6c7ab0",
   "metadata": {},
   "outputs": [
    {
     "name": "stdout",
     "output_type": "stream",
     "text": [
      "(1, 2, 3)\n"
     ]
    }
   ],
   "source": [
    "t1 = 1, 2, 3\n",
    "print(t1)"
   ]
  },
  {
   "cell_type": "code",
   "execution_count": 18,
   "id": "df8996df-bf6a-4221-826f-e2cd77b58e3d",
   "metadata": {},
   "outputs": [
    {
     "name": "stdout",
     "output_type": "stream",
     "text": [
      "'function' object has no attribute 's'\n",
      "some value\n"
     ]
    }
   ],
   "source": [
    "def f1(a, b):\n",
    "    f1.s = 'some value'\n",
    "    return a + b\n",
    "\n",
    "try:\n",
    "    print(f1.s)\n",
    "except Exception as e:\n",
    "    print(str(e))\n",
    "\n",
    "f1(3, 4)\n",
    "\n",
    "try:\n",
    "    print(f1.s)\n",
    "except Exception as e:\n",
    "    print(str(e))\n"
   ]
  },
  {
   "cell_type": "code",
   "execution_count": 78,
   "id": "1f2fce58-f09b-42f4-96ee-d41776c48bed",
   "metadata": {},
   "outputs": [
    {
     "name": "stdout",
     "output_type": "stream",
     "text": [
      "CS 101\n"
     ]
    }
   ],
   "source": [
    "import re\n",
    "\n",
    "def f1(data):\n",
    "    p = re.compile(r'(?P<dept>[A-Z]{2,3}) (?P<num>[0-9]{3})')\n",
    "    return p.search(data)\n",
    "\n",
    "obj = f1('CS 101')\n",
    "\n",
    "if obj:\n",
    "    dept, num = obj.group('dept'), obj.group('num')\n",
    "    print(dept, num)\n"
   ]
  },
  {
   "cell_type": "code",
   "execution_count": 33,
   "id": "77605407-f8f8-467d-b660-a2dad1c0ef19",
   "metadata": {},
   "outputs": [
    {
     "name": "stdout",
     "output_type": "stream",
     "text": [
      "{1: 4}\n"
     ]
    }
   ],
   "source": [
    "d1 = dict()\n",
    "\n",
    "d1 = {1:4}\n",
    "#d1 = {1,4}\n",
    "#Od1[4+1] = 15\n",
    "#d1[3] = 9\n",
    "print(d1)\n"
   ]
  },
  {
   "cell_type": "code",
   "execution_count": 38,
   "id": "aeabaa43-1322-44a3-a57b-33e6f4fad16b",
   "metadata": {},
   "outputs": [
    {
     "name": "stdout",
     "output_type": "stream",
     "text": [
      "1\n",
      "2\n"
     ]
    },
    {
     "ename": "StopIteration",
     "evalue": "",
     "output_type": "error",
     "traceback": [
      "\u001b[1;31m---------------------------------------------------------------------------\u001b[0m",
      "\u001b[1;31mStopIteration\u001b[0m                             Traceback (most recent call last)",
      "Cell \u001b[1;32mIn[38], line 16\u001b[0m\n\u001b[0;32m     14\u001b[0m f \u001b[38;5;241m=\u001b[39m foo(n)\n\u001b[0;32m     15\u001b[0m \u001b[38;5;28;01mfor\u001b[39;00m i \u001b[38;5;129;01min\u001b[39;00m \u001b[38;5;28mrange\u001b[39m(n):\n\u001b[1;32m---> 16\u001b[0m     \u001b[38;5;28mprint\u001b[39m(\u001b[38;5;28mnext\u001b[39m(f))\n",
      "\u001b[1;31mStopIteration\u001b[0m: "
     ]
    }
   ],
   "source": [
    "def foo(n):\n",
    "    if (n < 3):\n",
    "        yield 1\n",
    "    else:\n",
    "        return\n",
    "    yield 2\n",
    "\n",
    "n = 2\n",
    "f = foo(n)\n",
    "for i in range(n):\n",
    "    print(next(f))\n",
    "\n",
    "n = 5\n",
    "f = foo(n)\n",
    "for i in range(n):\n",
    "    print(next(f))\n"
   ]
  },
  {
   "cell_type": "code",
   "execution_count": 39,
   "id": "bc059f51-3098-4d53-bd8e-0d7c592c247b",
   "metadata": {},
   "outputs": [
    {
     "name": "stderr",
     "output_type": "stream",
     "text": [
      "WARNING:root:A Warning\n",
      "ERROR:root:An Error\n"
     ]
    }
   ],
   "source": [
    "import logging\n",
    "\n",
    "logging.warning('A Warning')\n",
    "\n",
    "logging.info('A Info')\n",
    "\n",
    "logging.error('An Error')\n",
    "\n",
    "logging.debug('Debugging')"
   ]
  },
  {
   "cell_type": "code",
   "execution_count": 40,
   "id": "80aad4b1-b60f-4ed0-bfac-ddc36cd9817f",
   "metadata": {},
   "outputs": [],
   "source": [
    "a = (5)"
   ]
  },
  {
   "cell_type": "code",
   "execution_count": 41,
   "id": "f9799085-82c0-469a-adf2-20339a9a727d",
   "metadata": {},
   "outputs": [
    {
     "data": {
      "text/plain": [
       "5"
      ]
     },
     "execution_count": 41,
     "metadata": {},
     "output_type": "execute_result"
    }
   ],
   "source": [
    "a"
   ]
  },
  {
   "cell_type": "code",
   "execution_count": 42,
   "id": "e909356c-6cef-4cc3-9bc2-c2477d7ea061",
   "metadata": {},
   "outputs": [
    {
     "data": {
      "text/plain": [
       "int"
      ]
     },
     "execution_count": 42,
     "metadata": {},
     "output_type": "execute_result"
    }
   ],
   "source": [
    "type(a)"
   ]
  },
  {
   "cell_type": "code",
   "execution_count": 43,
   "id": "c0dfde7e-bc2d-4a5b-bcb5-3f028ed92caf",
   "metadata": {},
   "outputs": [
    {
     "name": "stdout",
     "output_type": "stream",
     "text": [
      "False\n",
      "True\n",
      "True\n",
      "True\n"
     ]
    }
   ],
   "source": [
    "class A: pass\n",
    "\n",
    "class B(A): pass\n",
    "\n",
    "class C(object): pass\n",
    "\n",
    "class D(C): pass\n",
    "\n",
    "a = A()\n",
    "\n",
    "b = B()\n",
    "\n",
    "c = C()\n",
    "\n",
    "d = D()\n",
    "\n",
    "print(isinstance(a, type(b)))\n",
    "\n",
    "print(issubclass (C,C))\n",
    "\n",
    "print(isinstance(d,D))\n",
    "\n",
    "print(issubclass (C, (D,A,B,C)))"
   ]
  },
  {
   "cell_type": "markdown",
   "id": "83e85a53-36d4-452b-968f-1d03010338f7",
   "metadata": {},
   "source": [
    "# TRY HERE"
   ]
  },
  {
   "cell_type": "code",
   "execution_count": 53,
   "id": "a0500621-1e92-41bb-9f78-e7611b829d91",
   "metadata": {},
   "outputs": [
    {
     "name": "stdout",
     "output_type": "stream",
     "text": [
      "Base Created\n",
      "Base Created\n",
      "Child Created\n"
     ]
    }
   ],
   "source": [
    "class Base(object):\n",
    "    def __init__(self):\n",
    "        print('Base Created')\n",
    "\n",
    "class Child(Base):\n",
    "    def __init__(self):\n",
    "        super().__init__()     # Correct usage in Python 3\n",
    "        print('Child Created')\n",
    "\n",
    "b = Base()   # ➜ Base Created\n",
    "c = Child()  # ➜ Base Created (from super), then Child Created\n"
   ]
  },
  {
   "cell_type": "markdown",
   "id": "9718a071-d502-49e0-aa8f-049d9bc4affe",
   "metadata": {},
   "source": [
    "# One modification"
   ]
  },
  {
   "cell_type": "code",
   "execution_count": 55,
   "id": "7f8430ec-a891-41ff-b0b7-f1a757cfe57b",
   "metadata": {},
   "outputs": [
    {
     "name": "stdout",
     "output_type": "stream",
     "text": [
      "<class 'type'>\n",
      "<class 'type'>\n",
      "<class 'type'>\n"
     ]
    }
   ],
   "source": [
    "class MyType(type): pass\n",
    "\n",
    "class SubType(MyType): pass\n",
    "\n",
    "class MyObject(object):\n",
    "    __metaclass__ = MyType\n",
    "\n",
    "print(MyType.__class__)\n",
    "print(SubType.__class__)\n",
    "print(MyObject.__class__)\n"
   ]
  },
  {
   "cell_type": "code",
   "execution_count": 81,
   "id": "bb59a34d-2f18-493b-b40b-681d94cf614f",
   "metadata": {},
   "outputs": [
    {
     "ename": "SyntaxError",
     "evalue": "invalid decimal literal (2953396737.py, line 1)",
     "output_type": "error",
     "traceback": [
      "\u001b[1;36m  Cell \u001b[1;32mIn[81], line 1\u001b[1;36m\u001b[0m\n\u001b[1;33m    {0:$>2d} * {1:$>2d} = {2:$>2d}'.format(5.0, 10.0, 50.0)\u001b[0m\n\u001b[1;37m         ^\u001b[0m\n\u001b[1;31mSyntaxError\u001b[0m\u001b[1;31m:\u001b[0m invalid decimal literal\n"
     ]
    }
   ],
   "source": [
    "{0:$>2d} * {1:$>2d} = {2:$>2d}'.format(5, 10, 5*10)"
   ]
  },
  {
   "cell_type": "code",
   "execution_count": 60,
   "id": "f56ad4ef-714f-4052-b13d-3a88ea2ed67e",
   "metadata": {},
   "outputs": [
    {
     "ename": "SyntaxError",
     "evalue": "'in' expected after for-loop variables (2056244488.py, line 5)",
     "output_type": "error",
     "traceback": [
      "\u001b[1;36m  Cell \u001b[1;32mIn[60], line 5\u001b[1;36m\u001b[0m\n\u001b[1;33m    print([m(2) for min multipliers()])\u001b[0m\n\u001b[1;37m                        ^\u001b[0m\n\u001b[1;31mSyntaxError\u001b[0m\u001b[1;31m:\u001b[0m 'in' expected after for-loop variables\n"
     ]
    }
   ],
   "source": []
  },
  {
   "cell_type": "code",
   "execution_count": 69,
   "id": "83edf6da-80e9-4abc-9287-1827436fa3ee",
   "metadata": {},
   "outputs": [],
   "source": [
    "def check_twicel (lst, elm):\n",
    "\n",
    "    return lst.count(elm) > 1\n",
    "\n",
    "def check_twice2(lst, elm):\n",
    "\n",
    "    return (elm in lst and elm in lst[lst.index(elm)+1:])\n",
    "\n",
    "def check_twice3(lst, elm):\n",
    "\n",
    "    c = 0\n",
    "\n",
    "    for x in lst:\n",
    "\n",
    "        if x == elm: c += 1\n",
    "\n",
    "    return c\n",
    "\n",
    "def check_twice4 (lst, elm):\n",
    "\n",
    "    try:\n",
    "\n",
    "        lst.remove(elm)\n",
    "\n",
    "        lst.remove(elm)\n",
    "\n",
    "    except:\n",
    "\n",
    "        return False\n",
    "\n",
    "    return True"
   ]
  },
  {
   "cell_type": "code",
   "execution_count": 70,
   "id": "6d50380a-32c6-46a7-b4e0-45b1026a7efb",
   "metadata": {},
   "outputs": [
    {
     "name": "stdout",
     "output_type": "stream",
     "text": [
      "wrapper\n",
      "0.25\n",
      "oops! cannot divide\n",
      "None\n"
     ]
    }
   ],
   "source": [
    "def smart_divide(func):\n",
    "    def wrapper(*args):\n",
    "        a, b = args\n",
    "        if b == 0:\n",
    "            print('oops! cannot divide')\n",
    "            return\n",
    "        return func(*args)\n",
    "    return wrapper\n",
    "\n",
    "@smart_divide\n",
    "def divide(a, b):\n",
    "    return a / b\n",
    "\n",
    "print(divide.__name__)\n",
    "print(divide(4, 16))\n",
    "print(divide(8, 0))\n"
   ]
  },
  {
   "cell_type": "code",
   "execution_count": 73,
   "id": "d0d884e0-6cbd-45b9-963b-87143b558294",
   "metadata": {},
   "outputs": [
    {
     "data": {
      "text/plain": [
       "{'k': 'v', 'e': 'a', 'y': 'l', 's': 's'}"
      ]
     },
     "execution_count": 73,
     "metadata": {},
     "output_type": "execute_result"
    }
   ],
   "source": [
    "dict(zip('keys', 'vals'))"
   ]
  },
  {
   "cell_type": "code",
   "execution_count": 74,
   "id": "005233bf-b6e6-4ef6-a8f5-c15fd9cd1a4f",
   "metadata": {},
   "outputs": [
    {
     "name": "stdout",
     "output_type": "stream",
     "text": [
      "Hello World!\n",
      "Error Message: 'Oops something went wrong'\n"
     ]
    }
   ],
   "source": [
    "class MyError(Exception):\n",
    "    def __init__(self, value):\n",
    "        self.value = value\n",
    "\n",
    "    def __str__(self):\n",
    "        return repr(self.value)\n",
    "\n",
    "try:\n",
    "    print('Hello World!')\n",
    "    raise MyError('Oops something went wrong')\n",
    "except MyError as e:\n",
    "    print('Error Message:', e)"
   ]
  },
  {
   "cell_type": "code",
   "execution_count": 75,
   "id": "273a5ec7-df54-479f-93a7-eea54fbceb41",
   "metadata": {},
   "outputs": [
    {
     "name": "stdout",
     "output_type": "stream",
     "text": [
      "My name is Bob\n",
      "I'm the child\n"
     ]
    }
   ],
   "source": [
    "\n",
    "class Person(object):\n",
    "\n",
    "    def __init__(self, name):\n",
    "\n",
    "        print(\"My name is \", name)\n",
    "\n",
    "class Bob (Person):\n",
    "\n",
    "    def __init__(self, name='Bob'):\n",
    "\n",
    "        print('My name is Bob')\n",
    "\n",
    "    def ClassID(self):\n",
    "\n",
    "        print(\"I'm the father\")\n",
    "\n",
    "\n",
    "class Sue (Person):\n",
    "\n",
    "    def __init__(self, name='Sue'):\n",
    "\n",
    "        print('My name is Sue')\n",
    "\n",
    "    def ClassID(self):\n",
    "\n",
    "        print(\"I'm the mother\")\n",
    "\n",
    "class Child(Bob, Sue):\n",
    "\n",
    "    def __init__(self, name='x'):\n",
    "\n",
    "        super (Child, self).__init__(name)\n",
    "\n",
    "    def ClassID(self):\n",
    "    \n",
    "        print(\"I'm the child\")\n",
    "\n",
    "Ann = Child('Ann')\n",
    "\n",
    "Ann.ClassID()"
   ]
  },
  {
   "cell_type": "code",
   "execution_count": 76,
   "id": "077dc0e0-ca32-40ad-a9a7-6ebda11a826e",
   "metadata": {},
   "outputs": [
    {
     "name": "stdout",
     "output_type": "stream",
     "text": [
      "2\n",
      "2\n",
      "3\n",
      "2\n"
     ]
    }
   ],
   "source": [
    "class class1:\n",
    "    a = 1\n",
    "\n",
    "    def f1():\n",
    "        a = 2\n",
    "        class1.a += 1\n",
    "        print(class1.a)\n",
    "        print(a)\n",
    "\n",
    "class1.f1()\n",
    "class1.f1()"
   ]
  },
  {
   "cell_type": "code",
   "execution_count": null,
   "id": "947d4e14-d151-4fa3-bde1-25462d2a31ab",
   "metadata": {},
   "outputs": [],
   "source": []
  }
 ],
 "metadata": {
  "kernelspec": {
   "display_name": "Python 3 (ipykernel)",
   "language": "python",
   "name": "python3"
  },
  "language_info": {
   "codemirror_mode": {
    "name": "ipython",
    "version": 3
   },
   "file_extension": ".py",
   "mimetype": "text/x-python",
   "name": "python",
   "nbconvert_exporter": "python",
   "pygments_lexer": "ipython3",
   "version": "3.13.5"
  }
 },
 "nbformat": 4,
 "nbformat_minor": 5
}
