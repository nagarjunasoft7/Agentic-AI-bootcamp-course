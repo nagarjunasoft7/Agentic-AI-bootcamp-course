{
 "cells": [
  {
   "cell_type": "markdown",
   "id": "cfc0392e-9816-44aa-8839-897ee5844534",
   "metadata": {},
   "source": [
    "# Write a function takes a two-word string and returns True if both words begin with same letter"
   ]
  },
  {
   "cell_type": "code",
   "execution_count": 4,
   "id": "7a929ebb-e5a1-4df3-848f-c8494a94d1a7",
   "metadata": {},
   "outputs": [
    {
     "name": "stdout",
     "output_type": "stream",
     "text": [
      "['Levelheaded', 'Llama']\n",
      "True\n"
     ]
    },
    {
     "data": {
      "text/plain": [
       "True"
      ]
     },
     "execution_count": 4,
     "metadata": {},
     "output_type": "execute_result"
    }
   ],
   "source": [
    "def animal_crackers(text):\n",
    "    wordlist = text.split()\n",
    "    print(wordlist)\n",
    "    print(wordlist[0][0] == wordlist[1][0])\n",
    "    return wordlist[0][0] == wordlist[1][0]\n",
    "# Check\n",
    "animal_crackers('Levelheaded Llama')"
   ]
  },
  {
   "cell_type": "code",
   "execution_count": 5,
   "id": "5a5e2e3b-92d5-4611-a5da-b6dccc4466bd",
   "metadata": {},
   "outputs": [],
   "source": [
    "def spy_game(nums):\n",
    "\n",
    "    code = [0,0,7,'x']\n",
    "    \n",
    "    for num in nums:\n",
    "        if num == code[0]:\n",
    "            code.pop(0)   # code.remove(num) also works\n",
    "       \n",
    "    return len(code) == 1"
   ]
  },
  {
   "cell_type": "code",
   "execution_count": 6,
   "id": "f892e6af-c17c-49fd-ba8e-7b807e07f444",
   "metadata": {},
   "outputs": [
    {
     "data": {
      "text/plain": [
       "True"
      ]
     },
     "execution_count": 6,
     "metadata": {},
     "output_type": "execute_result"
    }
   ],
   "source": [
    "# Check\n",
    "spy_game([1,2,4,0,0,7,5])"
   ]
  },
  {
   "cell_type": "code",
   "execution_count": 1,
   "id": "c0b7c899-0f99-4a3b-b077-d5a220ad30b9",
   "metadata": {},
   "outputs": [
    {
     "data": {
      "text/plain": [
       "'hhheeellllllooo'"
      ]
     },
     "execution_count": 1,
     "metadata": {},
     "output_type": "execute_result"
    }
   ],
   "source": [
    "def char_repeat(text):\n",
    "    result =''\n",
    "    for char in text:\n",
    "        result = result+char*3\n",
    "    return result\n",
    "\n",
    "char_repeat('hello')"
   ]
  },
  {
   "cell_type": "markdown",
   "id": "75b7d39b-70d3-41c5-871d-c7eca1a0ba99",
   "metadata": {},
   "source": [
    "# Print Prime numbers from the given range"
   ]
  },
  {
   "cell_type": "markdown",
   "id": "0837d58b-0298-4b90-b768-c56dd2660c59",
   "metadata": {},
   "source": [
    "### (1). Using sympy library"
   ]
  },
  {
   "cell_type": "code",
   "execution_count": 5,
   "id": "63edf969-efd4-4811-9191-8405328c3328",
   "metadata": {},
   "outputs": [
    {
     "name": "stdout",
     "output_type": "stream",
     "text": [
      "[2, 3, 5, 7, 11, 13, 17, 19, 23, 29, 31, 37, 41, 43, 47]\n"
     ]
    }
   ],
   "source": [
    "from sympy import primerange\n",
    "x, y= 0, 50\n",
    "primes  = list(primerange(x, y+1))\n",
    "print(primes  if primes   else \"No\")\n"
   ]
  },
  {
   "cell_type": "code",
   "execution_count": 24,
   "id": "f81c6668-024b-42c6-beca-f490b85c5051",
   "metadata": {},
   "outputs": [
    {
     "name": "stdout",
     "output_type": "stream",
     "text": [
      "[2, 3, 5, 7, 11, 13, 17, 19, 23, 29, 31, 37, 41, 43, 47]\n"
     ]
    }
   ],
   "source": [
    "from sympy import primerange\n",
    "x,y = 0, 50\n",
    "prime_numbers = list(primerange(x, y+1))\n",
    "print(prime_numbers if prime_numbers else 'Hi')"
   ]
  },
  {
   "cell_type": "markdown",
   "id": "5f671680-e2b2-4563-ba65-61fe04ad373d",
   "metadata": {},
   "source": [
    "### (2). Using trial division"
   ]
  },
  {
   "cell_type": "code",
   "execution_count": 22,
   "id": "a781f6e9-7e47-41b0-a103-ae51e497dc7a",
   "metadata": {},
   "outputs": [
    {
     "name": "stdout",
     "output_type": "stream",
     "text": [
      "[2, 3, 5, 7, 11, 13, 17, 19, 23, 29, 31, 37, 41, 43, 47]\n"
     ]
    }
   ],
   "source": [
    "def find_primes_up_to_n(a, n):\n",
    "    primes = []\n",
    "    for num in range(a, n + 1):\n",
    "        is_prime = True\n",
    "        for i in range(a, int(num**0.5) + 1):\n",
    "            if num % i == 0:\n",
    "                is_prime = False\n",
    "                break\n",
    "        if is_prime:\n",
    "            primes.append(num)\n",
    "    return primes\n",
    "\n",
    "prime_numbers = find_primes_up_to_n(2,50)\n",
    "print(prime_numbers)"
   ]
  },
  {
   "cell_type": "code",
   "execution_count": null,
   "id": "246f4fea-1c43-4ba7-82c4-f9f7ccd2b979",
   "metadata": {},
   "outputs": [],
   "source": []
  }
 ],
 "metadata": {
  "kernelspec": {
   "display_name": "Python 3 (ipykernel)",
   "language": "python",
   "name": "python3"
  },
  "language_info": {
   "codemirror_mode": {
    "name": "ipython",
    "version": 3
   },
   "file_extension": ".py",
   "mimetype": "text/x-python",
   "name": "python",
   "nbconvert_exporter": "python",
   "pygments_lexer": "ipython3",
   "version": "3.13.5"
  }
 },
 "nbformat": 4,
 "nbformat_minor": 5
}
