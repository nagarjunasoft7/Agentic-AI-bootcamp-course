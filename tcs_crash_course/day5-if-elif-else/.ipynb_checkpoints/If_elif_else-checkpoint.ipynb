{
 "cells": [
  {
   "cell_type": "code",
   "execution_count": 1,
   "id": "f2fcf0ac-1e3f-4d62-975f-10ae62794dc1",
   "metadata": {},
   "outputs": [
    {
     "name": "stdout",
     "output_type": "stream",
     "text": [
      "feed me\n"
     ]
    }
   ],
   "source": [
    "hungry = True\n",
    "if hungry:\n",
    "    print('feed me')"
   ]
  },
  {
   "cell_type": "code",
   "execution_count": 2,
   "id": "c7276ee4-37a3-4cf9-a16f-ff8a3cc0c100",
   "metadata": {},
   "outputs": [],
   "source": [
    "hungry = False\n",
    "if hungry:\n",
    "    print('feed me')"
   ]
  },
  {
   "cell_type": "code",
   "execution_count": 3,
   "id": "091b2a1a-5a59-4d38-b610-d3ba454798ed",
   "metadata": {},
   "outputs": [
    {
     "name": "stdout",
     "output_type": "stream",
     "text": [
      "no need\n"
     ]
    }
   ],
   "source": [
    "hungry = False\n",
    "if hungry:\n",
    "    print('feed me')\n",
    "else:\n",
    "    print(\"no need\")"
   ]
  },
  {
   "cell_type": "code",
   "execution_count": 4,
   "id": "d4ea235f-6d2b-4f2d-8e1c-7a9f7e2e08b6",
   "metadata": {},
   "outputs": [
    {
     "name": "stdout",
     "output_type": "stream",
     "text": [
      "no need\n"
     ]
    }
   ],
   "source": [
    "hungry = False\n",
    "if hungry: print('feed me')\n",
    "else: print(\"no need\")"
   ]
  },
  {
   "cell_type": "code",
   "execution_count": 5,
   "id": "f1e7c7a6-a06a-4e8f-9ab1-914946a0d0a2",
   "metadata": {},
   "outputs": [
    {
     "ename": "IndentationError",
     "evalue": "unexpected indent (3811558891.py, line 3)",
     "output_type": "error",
     "traceback": [
      "\u001b[1;36m  Cell \u001b[1;32mIn[5], line 3\u001b[1;36m\u001b[0m\n\u001b[1;33m    else: print(\"no need\")\u001b[0m\n\u001b[1;37m    ^\u001b[0m\n\u001b[1;31mIndentationError\u001b[0m\u001b[1;31m:\u001b[0m unexpected indent\n"
     ]
    }
   ],
   "source": [
    "hungry = False\n",
    "if hungry: print('feed me')\n",
    "        else: print(\"no need\") #   IndentationError: unexpected indent"
   ]
  },
  {
   "cell_type": "code",
   "execution_count": 6,
   "id": "968c2fab-22e0-46d9-92e1-6b19ac8a8fb8",
   "metadata": {},
   "outputs": [
    {
     "ename": "IndentationError",
     "evalue": "expected an indented block after 'else' statement on line 4 (138570777.py, line 5)",
     "output_type": "error",
     "traceback": [
      "\u001b[1;36m  Cell \u001b[1;32mIn[6], line 5\u001b[1;36m\u001b[0m\n\u001b[1;33m    print(\"no need\")\u001b[0m\n\u001b[1;37m    ^\u001b[0m\n\u001b[1;31mIndentationError\u001b[0m\u001b[1;31m:\u001b[0m expected an indented block after 'else' statement on line 4\n"
     ]
    }
   ],
   "source": [
    "hungry = False\n",
    "if hungry:\n",
    "    print('feed me')\n",
    "else:\n",
    "print(\"no need\") #IndentationError: expected an indented block after 'else' statement on line 4"
   ]
  },
  {
   "cell_type": "code",
   "execution_count": 8,
   "id": "11bb03a7-c322-4813-9155-1d3246fd26ad",
   "metadata": {},
   "outputs": [
    {
     "name": "stdout",
     "output_type": "stream",
     "text": [
      "a is less then 10\n"
     ]
    }
   ],
   "source": [
    "a = 10\n",
    "if a > 10:\n",
    "    print('a is greater then 10')\n",
    "else:\n",
    "     print('a is less then 10')"
   ]
  },
  {
   "cell_type": "code",
   "execution_count": 11,
   "id": "6f5c4cb0-a814-47b8-90fa-3a3e8c9659d6",
   "metadata": {},
   "outputs": [
    {
     "name": "stdout",
     "output_type": "stream",
     "text": [
      "a is less then b\n"
     ]
    }
   ],
   "source": [
    "a = 10\n",
    "b = 20\n",
    "if a > b:\n",
    "    print('a is greater then b')\n",
    "else:\n",
    "     print('a is less then b')"
   ]
  },
  {
   "cell_type": "code",
   "execution_count": 13,
   "id": "f6a7d8bb-39a7-4170-8ddf-91e8a04188da",
   "metadata": {},
   "outputs": [
    {
     "name": "stdout",
     "output_type": "stream",
     "text": [
      "a is equals to b\n"
     ]
    }
   ],
   "source": [
    "a = 10\n",
    "b = 10\n",
    "if a > b:\n",
    "    print('a is greater then b')\n",
    "elif a == b:\n",
    "     print('a is equals to b')\n",
    "else:\n",
    "     print('a is less then b')"
   ]
  },
  {
   "cell_type": "code",
   "execution_count": null,
   "id": "b751885e-1a95-40c9-bea1-31a68f9a24e4",
   "metadata": {},
   "outputs": [],
   "source": []
  }
 ],
 "metadata": {
  "kernelspec": {
   "display_name": "Python 3 (ipykernel)",
   "language": "python",
   "name": "python3"
  },
  "language_info": {
   "codemirror_mode": {
    "name": "ipython",
    "version": 3
   },
   "file_extension": ".py",
   "mimetype": "text/x-python",
   "name": "python",
   "nbconvert_exporter": "python",
   "pygments_lexer": "ipython3",
   "version": "3.13.5"
  }
 },
 "nbformat": 4,
 "nbformat_minor": 5
}
