{
 "cells": [
  {
   "cell_type": "code",
   "execution_count": 1,
   "id": "9b804d3e-e91f-495a-853b-707114343b13",
   "metadata": {},
   "outputs": [
    {
     "data": {
      "text/plain": [
       "'spam eggs'"
      ]
     },
     "execution_count": 1,
     "metadata": {},
     "output_type": "execute_result"
    }
   ],
   "source": [
    "'spam eggs'  # single quotes\n"
   ]
  },
  {
   "cell_type": "code",
   "execution_count": 2,
   "id": "67febfbb-8576-4cd1-8fc1-5ae2edb63769",
   "metadata": {},
   "outputs": [
    {
     "data": {
      "text/plain": [
       "'Paris rabbit got your back :)! Yay!'"
      ]
     },
     "execution_count": 2,
     "metadata": {},
     "output_type": "execute_result"
    }
   ],
   "source": [
    "\n",
    "\"Paris rabbit got your back :)! Yay!\"  # double quotes\n"
   ]
  },
  {
   "cell_type": "code",
   "execution_count": 3,
   "id": "2e30cc05-c2f4-4347-8d58-32ec0cb0eace",
   "metadata": {},
   "outputs": [
    {
     "data": {
      "text/plain": [
       "'1975'"
      ]
     },
     "execution_count": 3,
     "metadata": {},
     "output_type": "execute_result"
    }
   ],
   "source": [
    "'1975'  # digits and numerals enclosed in quotes are also strings"
   ]
  },
  {
   "cell_type": "code",
   "execution_count": 5,
   "id": "c3bf3065-f8b5-45e8-859e-4dfd839eb8c2",
   "metadata": {},
   "outputs": [
    {
     "data": {
      "text/plain": [
       "'fist line. \\nsecond line'"
      ]
     },
     "execution_count": 5,
     "metadata": {},
     "output_type": "execute_result"
    }
   ],
   "source": [
    "\"fist line. \\nsecond line\""
   ]
  },
  {
   "cell_type": "code",
   "execution_count": 10,
   "id": "3d9dfe9e-94ba-4a9b-8b5b-8bda650b9055",
   "metadata": {},
   "outputs": [
    {
     "name": "stdout",
     "output_type": "stream",
     "text": [
      "fist line. \n",
      "second line\n"
     ]
    }
   ],
   "source": [
    "s = \"fist line. \\nsecond line\"\n",
    "print(s)"
   ]
  },
  {
   "cell_type": "code",
   "execution_count": 13,
   "id": "067811e0-19c8-4411-b8ce-a5b9c549af59",
   "metadata": {},
   "outputs": [
    {
     "name": "stdout",
     "output_type": "stream",
     "text": [
      "fist line. \tsecond line\n"
     ]
    }
   ],
   "source": [
    "s = \"fist line. \\tsecond line\"\n",
    "print(s)"
   ]
  },
  {
   "cell_type": "markdown",
   "id": "f6b19a87-54f7-4a41-aa75-a9f4a93b0624",
   "metadata": {},
   "source": [
    "### If you don’t want characters prefaced by \\ to be interpreted as special characters, you can use raw strings by adding an r before the first quote:"
   ]
  },
  {
   "cell_type": "code",
   "execution_count": 19,
   "id": "e1f6c9ba-0f12-422d-886f-a1645d4b09ad",
   "metadata": {},
   "outputs": [
    {
     "name": "stdout",
     "output_type": "stream",
     "text": [
      "C:\\some\n",
      "ame\n"
     ]
    }
   ],
   "source": [
    "print('C:\\some\\name') ## here \\n means newline! so we shoudl use raw strings by adding an r before the first quote such scenarios"
   ]
  },
  {
   "cell_type": "code",
   "execution_count": 16,
   "id": "e293537a-3b98-4786-b9c0-742a84a9d89c",
   "metadata": {},
   "outputs": [
    {
     "name": "stdout",
     "output_type": "stream",
     "text": [
      "C:\\some\\name\n"
     ]
    }
   ],
   "source": [
    "print(r'C:\\some\\name')"
   ]
  },
  {
   "cell_type": "markdown",
   "id": "9e8f90eb-783f-48de-ad37-e0c35141a79f",
   "metadata": {},
   "source": [
    "# Can I end a raw string with an odd number of backslashes?\n",
    "### A raw string ending with an odd number of backslashes will escape the string’s quote:"
   ]
  },
  {
   "cell_type": "code",
   "execution_count": 20,
   "id": "c5dff5e9-5214-4397-9040-9a2b53aa5963",
   "metadata": {},
   "outputs": [
    {
     "ename": "SyntaxError",
     "evalue": "unterminated string literal (detected at line 1); perhaps you escaped the end quote? (1722086639.py, line 1)",
     "output_type": "error",
     "traceback": [
      "\u001b[1;36m  Cell \u001b[1;32mIn[20], line 1\u001b[1;36m\u001b[0m\n\u001b[1;33m    r'C:\\this\\will\\not\\work\\'\u001b[0m\n\u001b[1;37m    ^\u001b[0m\n\u001b[1;31mSyntaxError\u001b[0m\u001b[1;31m:\u001b[0m unterminated string literal (detected at line 1); perhaps you escaped the end quote?\n"
     ]
    }
   ],
   "source": [
    "r'C:\\this\\will\\not\\work\\'"
   ]
  },
  {
   "cell_type": "code",
   "execution_count": 24,
   "id": "b67b53a4-0bbd-40db-82f3-74c207ec8502",
   "metadata": {},
   "outputs": [
    {
     "ename": "SyntaxError",
     "evalue": "unterminated string literal (detected at line 1); perhaps you escaped the end quote? (1873194005.py, line 1)",
     "output_type": "error",
     "traceback": [
      "\u001b[1;36m  Cell \u001b[1;32mIn[24], line 1\u001b[1;36m\u001b[0m\n\u001b[1;33m    print(r'C:\\this\\will\\not\\work\\')\u001b[0m\n\u001b[1;37m          ^\u001b[0m\n\u001b[1;31mSyntaxError\u001b[0m\u001b[1;31m:\u001b[0m unterminated string literal (detected at line 1); perhaps you escaped the end quote?\n"
     ]
    }
   ],
   "source": [
    "print(r'C:\\this\\will\\not\\work\\')"
   ]
  },
  {
   "cell_type": "markdown",
   "id": "10aad8a5-5a95-438f-a73d-db2bac013f81",
   "metadata": {},
   "source": [
    "#### There are several workarounds for this. One is to use regular strings and double the backslashes:"
   ]
  },
  {
   "cell_type": "code",
   "execution_count": 25,
   "id": "52f6abde-b98a-4815-956f-8d11093871f1",
   "metadata": {},
   "outputs": [
    {
     "data": {
      "text/plain": [
       "'C:\\\\this\\\\will\\\\work\\\\'"
      ]
     },
     "execution_count": 25,
     "metadata": {},
     "output_type": "execute_result"
    }
   ],
   "source": [
    "'C:\\\\this\\\\will\\\\work\\\\'"
   ]
  },
  {
   "cell_type": "code",
   "execution_count": 27,
   "id": "3c3df701-2d37-4f02-935e-ea299fdc9ecf",
   "metadata": {},
   "outputs": [
    {
     "data": {
      "text/plain": [
       "'D:\\\\folder1\\\\subfolder2\\\\innersubfolde\\\\'"
      ]
     },
     "execution_count": 27,
     "metadata": {},
     "output_type": "execute_result"
    }
   ],
   "source": [
    "'D:\\\\folder1\\\\subfolder2\\\\innersubfolde\\\\'"
   ]
  },
  {
   "cell_type": "code",
   "execution_count": 29,
   "id": "a4f856be-5e4b-4f12-8a32-711d892807ff",
   "metadata": {},
   "outputs": [
    {
     "data": {
      "text/plain": [
       "'C:\\\\this\\\\will\\\\work'"
      ]
     },
     "execution_count": 29,
     "metadata": {},
     "output_type": "execute_result"
    }
   ],
   "source": [
    "r'C:\\this\\will\\work'"
   ]
  },
  {
   "cell_type": "code",
   "execution_count": 30,
   "id": "c3e76fdd-a62f-4cfb-b85f-9e1c5597fc13",
   "metadata": {},
   "outputs": [
    {
     "data": {
      "text/plain": [
       "'C:\\\\this\\\\will\\\\work\\\\'"
      ]
     },
     "execution_count": 30,
     "metadata": {},
     "output_type": "execute_result"
    }
   ],
   "source": [
    "r'C:\\this\\will\\work' '\\\\'"
   ]
  },
  {
   "cell_type": "code",
   "execution_count": 31,
   "id": "8cb2a8e5-e1d0-44d0-9211-b938013cc951",
   "metadata": {},
   "outputs": [
    {
     "data": {
      "text/plain": [
       "'onetwo'"
      ]
     },
     "execution_count": 31,
     "metadata": {},
     "output_type": "execute_result"
    }
   ],
   "source": [
    "\"one\" \"two\""
   ]
  },
  {
   "cell_type": "code",
   "execution_count": 33,
   "id": "464f5642-e5bb-4955-b888-b7778c4dd6d5",
   "metadata": {},
   "outputs": [
    {
     "data": {
      "text/plain": [
       "\"backslash\\\\'preserved\""
      ]
     },
     "execution_count": 33,
     "metadata": {},
     "output_type": "execute_result"
    }
   ],
   "source": [
    "r'backslash\\'preserved'"
   ]
  },
  {
   "cell_type": "markdown",
   "id": "f3cb2466-4afb-4204-a7a4-c66d9bdcef87",
   "metadata": {},
   "source": [
    "# String literals can span multiple lines."
   ]
  },
  {
   "cell_type": "code",
   "execution_count": 44,
   "id": "98cc677e-83d8-441c-a995-197240349ab6",
   "metadata": {},
   "outputs": [
    {
     "name": "stdout",
     "output_type": "stream",
     "text": [
      " \n",
      "    Hi, \n",
      "    Ramu\n",
      "    ho ware you \n",
      "    \n"
     ]
    }
   ],
   "source": [
    "a = \"\"\" \n",
    "    Hi, \n",
    "    Ramu\n",
    "    ho ware you \n",
    "    \"\"\"\n",
    "print(a)"
   ]
  },
  {
   "cell_type": "code",
   "execution_count": 36,
   "id": "25d78ac8-c235-4a19-9dc2-bb1390c46be1",
   "metadata": {},
   "outputs": [
    {
     "name": "stdout",
     "output_type": "stream",
     "text": [
      "Usage: thingy [OPTIONS]\n",
      "     -h                        Display this usage message\n",
      "     -H hostname               Hostname to connect to\n",
      "\n"
     ]
    }
   ],
   "source": [
    "print(\"\"\"\\\n",
    "Usage: thingy [OPTIONS]\n",
    "     -h                        Display this usage message\n",
    "     -H hostname               Hostname to connect to\n",
    "\"\"\")"
   ]
  },
  {
   "cell_type": "code",
   "execution_count": 48,
   "id": "c12d3dc1-5a76-448c-8835-b199f5b6e274",
   "metadata": {},
   "outputs": [
    {
     "name": "stdout",
     "output_type": "stream",
     "text": [
      "\n",
      "{\n",
      "   name : arjun,\n",
      "   id   : 111\n",
      "   address: python world\n",
      "}\n",
      "\n"
     ]
    }
   ],
   "source": [
    "json = \"\"\"\n",
    "{\n",
    "   name : arjun,\n",
    "   id   : 111\n",
    "   address: python world\n",
    "}\n",
    "\"\"\"\n",
    "\n",
    "print(json)"
   ]
  },
  {
   "cell_type": "code",
   "execution_count": 59,
   "id": "821bca74-e95f-41a1-abbc-d03b42034a03",
   "metadata": {},
   "outputs": [
    {
     "name": "stdout",
     "output_type": "stream",
     "text": [
      "unununium\n"
     ]
    }
   ],
   "source": [
    "# Strings can be concatenated (glued together) with the + operator, and repeated with *:\n",
    "\n",
    "#3*\"boss\"+ test\n",
    "print(3 * 'un' + 'ium')"
   ]
  },
  {
   "cell_type": "code",
   "execution_count": 60,
   "id": "79ae3294-5792-4ad8-afb7-b57596b3192d",
   "metadata": {},
   "outputs": [
    {
     "data": {
      "text/plain": [
       "'hihihisai'"
      ]
     },
     "execution_count": 60,
     "metadata": {},
     "output_type": "execute_result"
    }
   ],
   "source": [
    "# 3 times 'un', followed by 'ium'\n",
    "3 * 'hi' + 'sai'"
   ]
  },
  {
   "cell_type": "code",
   "execution_count": 63,
   "id": "31571f70-f21f-4893-ae99-628ad66ceaeb",
   "metadata": {},
   "outputs": [
    {
     "data": {
      "text/plain": [
       "'Put several strings within parentheses to have them joined together.'"
      ]
     },
     "execution_count": 63,
     "metadata": {},
     "output_type": "execute_result"
    }
   ],
   "source": [
    "text  = ('Put several strings within parentheses '\n",
    "        'to have them joined together.')\n",
    "text"
   ]
  },
  {
   "cell_type": "code",
   "execution_count": 64,
   "id": "aa4536a0-6e36-4a62-8f12-7dc332a8388f",
   "metadata": {},
   "outputs": [
    {
     "data": {
      "text/plain": [
       "'Python'"
      ]
     },
     "execution_count": 64,
     "metadata": {},
     "output_type": "execute_result"
    }
   ],
   "source": [
    "'Py' 'thon'"
   ]
  },
  {
   "cell_type": "code",
   "execution_count": 67,
   "id": "4877bdc5-ecfd-4b7c-98a6-23c81bda512a",
   "metadata": {},
   "outputs": [
    {
     "data": {
      "text/plain": [
       "'Python'"
      ]
     },
     "execution_count": 67,
     "metadata": {},
     "output_type": "execute_result"
    }
   ],
   "source": [
    "prefix = 'Py'\n",
    "prefix + 'thon'\n"
   ]
  },
  {
   "cell_type": "code",
   "execution_count": 68,
   "id": "9c379316-0c08-4422-b421-48d2a4a6e8d3",
   "metadata": {},
   "outputs": [
    {
     "name": "stdout",
     "output_type": "stream",
     "text": [
      "Python\n"
     ]
    }
   ],
   "source": [
    "print('Py' 'thon')"
   ]
  },
  {
   "cell_type": "markdown",
   "id": "38ba0dc3-e21d-4b96-94bf-c48cdcb88707",
   "metadata": {},
   "source": [
    "# indexed "
   ]
  },
  {
   "cell_type": "code",
   "execution_count": 70,
   "id": "af9c9fe2-9378-40b0-8e36-e3977f9f8776",
   "metadata": {},
   "outputs": [
    {
     "data": {
      "text/plain": [
       "'hi'"
      ]
     },
     "execution_count": 70,
     "metadata": {},
     "output_type": "execute_result"
    }
   ],
   "source": [
    "text = \"hi\"\n",
    "text"
   ]
  },
  {
   "cell_type": "code",
   "execution_count": 71,
   "id": "0b3584aa-7651-4d51-afa3-6f9e5eabdf6f",
   "metadata": {},
   "outputs": [
    {
     "data": {
      "text/plain": [
       "'test'"
      ]
     },
     "execution_count": 71,
     "metadata": {},
     "output_type": "execute_result"
    }
   ],
   "source": [
    "text = \"test\"\n",
    "text"
   ]
  },
  {
   "cell_type": "code",
   "execution_count": 77,
   "id": "81beb9a6-c61d-4ad6-8995-a30921ad5024",
   "metadata": {},
   "outputs": [
    {
     "data": {
      "text/plain": [
       "'hi how are you'"
      ]
     },
     "execution_count": 77,
     "metadata": {},
     "output_type": "execute_result"
    }
   ],
   "source": [
    "text = \"hi how are you\"\n",
    "text"
   ]
  },
  {
   "cell_type": "code",
   "execution_count": 93,
   "id": "b5ffc03d-ab17-4780-95e1-8109671b77c9",
   "metadata": {},
   "outputs": [
    {
     "name": "stdout",
     "output_type": "stream",
     "text": [
      "hi how are you\n",
      "h\n",
      "w\n",
      "14\n",
      "u\n",
      "u\n",
      "o\n"
     ]
    }
   ],
   "source": [
    "text = \"hi how are you\" # hi how are you\" index strat with 0\n",
    "print(text)\n",
    "print(text[0])\n",
    "print(text[5])\n",
    "print(len(text)) #14\n",
    "print(text[13]) #last car length -1\n",
    "print(text[-1]) #last car with negative index start with -1\n",
    "print(text[-2]) #second char from last\n",
    "#print(text[20]) #IndexError: string index out of range\n",
    "\n"
   ]
  },
  {
   "cell_type": "markdown",
   "id": "6ff93fbc-b45d-464d-898f-ec61279cfa9f",
   "metadata": {},
   "source": [
    "# Slicing sequences\n",
    "### Syntax: sequence[start:stop:step]\n",
    "\n",
    "#### start_index includes\n",
    "#### stopt_index exludes\n",
    "#### step_index alternative chars"
   ]
  },
  {
   "cell_type": "code",
   "execution_count": 109,
   "id": "66f8c543-b1a7-403d-8dc7-c53da8299363",
   "metadata": {},
   "outputs": [
    {
     "name": "stdout",
     "output_type": "stream",
     "text": [
      "ell\n",
      "llo\n",
      "hello\n",
      "world\n",
      "hello world\n",
      "11\n",
      "el o\n"
     ]
    }
   ],
   "source": [
    "text = \"hello world\" # hi how are you\" index strat with 0\n",
    "print(text[1:4]) #  output is (ell) . Here strat char included, end char exluded\n",
    "print(text[2:5]) #  llo\n",
    "print(text[0:5]) # if not passing the start index, default 0 \n",
    "print(text[6:]) # if not passing the stop index, default length of the seq\n",
    "print(text[:]) # entire String\n",
    "\n",
    "print(len(text)) # length is 11\n",
    "print(text[1:8:2]) # entire String [start_index : stop_index : step_index] \n",
    "\n"
   ]
  },
  {
   "cell_type": "code",
   "execution_count": 120,
   "id": "e48b17de-11fb-41e4-bee8-ecfd30594629",
   "metadata": {},
   "outputs": [
    {
     "name": "stdout",
     "output_type": "stream",
     "text": [
      "18\n",
      "aFoPtoW\n",
      "aotW\n",
      "IamFromPythonWorld\n",
      "Imrmyhnol\n",
      "IFmtnr\n",
      "Irynl\n"
     ]
    }
   ],
   "source": [
    "text = \"IamFromPythonWorld\" # hi how are you\" index strat with 0\n",
    "print(len(text))\n",
    "print(text[1:15:2]) #alternative char form 1 to 15 index. 1 will be included and 15 excluded\n",
    "print(text[1:15:4]) #aotW start with idex 1 to index 15 at every 4th char\n",
    "print(text[::1]) #IamFromPythonWorld\n",
    "print(text[::2])\n",
    "print(text[::3])\n",
    "print(text[::4])\n",
    "\n",
    "\n"
   ]
  },
  {
   "cell_type": "markdown",
   "id": "8faa56e9-ca4e-4718-b4a3-baf5b3165fe7",
   "metadata": {},
   "source": [
    "# Reverse String"
   ]
  },
  {
   "cell_type": "code",
   "execution_count": 122,
   "id": "8d7c2f21-4c52-41b6-96ad-ea5acbab6917",
   "metadata": {},
   "outputs": [
    {
     "data": {
      "text/plain": [
       "'IamFromPythonWorld'"
      ]
     },
     "execution_count": 122,
     "metadata": {},
     "output_type": "execute_result"
    }
   ],
   "source": [
    "text"
   ]
  },
  {
   "cell_type": "code",
   "execution_count": 125,
   "id": "48483e15-7210-4b93-b085-1830624f37e1",
   "metadata": {},
   "outputs": [
    {
     "name": "stdout",
     "output_type": "stream",
     "text": [
      "dlroWnohtyPmorFmaI\n",
      "drWotPoFa\n",
      "dooyom\n"
     ]
    }
   ],
   "source": [
    "print(text[::-1]) # reverse order \n",
    "print(text[::-2]) # reverse order by alternative char\n",
    "print(text[::-3]) # reverse order by each 3rd alternative char \n"
   ]
  },
  {
   "cell_type": "code",
   "execution_count": 133,
   "id": "fcd8aa65-8a1a-4da1-8d4f-c4e5c67a4945",
   "metadata": {},
   "outputs": [
    {
     "name": "stdout",
     "output_type": "stream",
     "text": [
      "zzzzzzzzzz\n",
      "a -a -a -a -a -\n",
      "hello hello hello hello hello hello hello hello hello hello \n"
     ]
    }
   ],
   "source": [
    "print('z' * 10)\n",
    "print('a -'*5)\n",
    "print('hello ' * 10)"
   ]
  },
  {
   "cell_type": "code",
   "execution_count": 134,
   "id": "9c0a2cfd-ea7e-4d0a-84f2-f997c3d43cc5",
   "metadata": {},
   "outputs": [
    {
     "data": {
      "text/plain": [
       "5"
      ]
     },
     "execution_count": 134,
     "metadata": {},
     "output_type": "execute_result"
    }
   ],
   "source": [
    "2 + 3\n"
   ]
  },
  {
   "cell_type": "code",
   "execution_count": 135,
   "id": "cd30b48f-b1ac-47e1-b252-9dec6218c284",
   "metadata": {},
   "outputs": [
    {
     "data": {
      "text/plain": [
       "'23'"
      ]
     },
     "execution_count": 135,
     "metadata": {},
     "output_type": "execute_result"
    }
   ],
   "source": [
    "'2' + '3'"
   ]
  },
  {
   "cell_type": "code",
   "execution_count": 146,
   "id": "afe76f9c-53c2-46aa-83b6-71a186b6df62",
   "metadata": {},
   "outputs": [
    {
     "name": "stdout",
     "output_type": "stream",
     "text": [
      "HELLOW\n",
      "hellow\n"
     ]
    }
   ],
   "source": [
    " x ='hellow'\n",
    "print(x.upper())\n",
    "print(x) # String are immutable"
   ]
  },
  {
   "cell_type": "code",
   "execution_count": 147,
   "id": "1001861c-4415-445c-bf7e-c832b92ba5c0",
   "metadata": {},
   "outputs": [
    {
     "name": "stdout",
     "output_type": "stream",
     "text": [
      "HELLOW\n"
     ]
    }
   ],
   "source": [
    "x ='hellow'\n",
    "x = x.upper()\n",
    "print(x) "
   ]
  },
  {
   "cell_type": "code",
   "execution_count": 148,
   "id": "7341407a-871b-42d5-b696-684527e78ad5",
   "metadata": {},
   "outputs": [
    {
     "name": "stdout",
     "output_type": "stream",
     "text": [
      "['hellow']\n"
     ]
    }
   ],
   "source": [
    " x ='hellow'\n",
    "print(x.split())"
   ]
  },
  {
   "cell_type": "code",
   "execution_count": 154,
   "id": "6b128f71-ee8f-4f04-a772-0719a258403e",
   "metadata": {},
   "outputs": [
    {
     "name": "stdout",
     "output_type": "stream",
     "text": [
      "['hellow', 'how', 'are', 'you', 'doing']\n"
     ]
    }
   ],
   "source": [
    " x ='hellow how are you doing'\n",
    "print(x.split())  # default split with white space and return a list\n",
    "# ['hellow', 'how', 'are', 'you', 'doing']"
   ]
  },
  {
   "cell_type": "code",
   "execution_count": 155,
   "id": "ecd82d2c-6fd9-4791-9dab-2b021bd92eab",
   "metadata": {},
   "outputs": [
    {
     "name": "stdout",
     "output_type": "stream",
     "text": [
      "['', 'ellow ', 'ow are you doing']\n"
     ]
    }
   ],
   "source": [
    "print(x.split('h')) #"
   ]
  },
  {
   "cell_type": "code",
   "execution_count": 156,
   "id": "de0a0fff-2cb3-4854-8bdc-d89387d94478",
   "metadata": {},
   "outputs": [
    {
     "name": "stdout",
     "output_type": "stream",
     "text": [
      "['hello', 'my name is Peter', 'I am 26 years old']\n"
     ]
    }
   ],
   "source": [
    "txt = \"hello, my name is Peter, I am 26 years old\"\n",
    "\n",
    "x = txt.split(\", \")\n",
    "\n",
    "print(x)"
   ]
  },
  {
   "cell_type": "code",
   "execution_count": 157,
   "id": "eac999e2-52d2-402a-9e9e-53420dd2064d",
   "metadata": {},
   "outputs": [
    {
     "name": "stdout",
     "output_type": "stream",
     "text": [
      "['apple', 'banana', 'cherry', 'orange']\n"
     ]
    }
   ],
   "source": [
    "txt = \"apple#banana#cherry#orange\"\n",
    "\n",
    "x = txt.split(\"#\")\n",
    "\n",
    "\n",
    "print(x)"
   ]
  },
  {
   "cell_type": "markdown",
   "id": "d7f47396-c699-4d45-ac04-daf38ebd19d2",
   "metadata": {},
   "source": [
    "# Split() function syntax\n",
    "## string.split(separator, maxsplit) \n",
    "###### separator  ->\tOptional. Specifies the separator to use when splitting the string. By default any whitespace is a separator\n",
    "###### maxsplit\t  ->    Optional. Specifies how many splits to do. Default value is -1, which is \"all occurrences\""
   ]
  },
  {
   "cell_type": "code",
   "execution_count": 159,
   "id": "30f1bf3f-5084-41ec-95ea-ba8031755174",
   "metadata": {},
   "outputs": [
    {
     "name": "stdout",
     "output_type": "stream",
     "text": [
      "['apple', 'banana#cherry#orange']\n"
     ]
    }
   ],
   "source": [
    "txt = \"apple#banana#cherry#orange\"\n",
    "\n",
    "# setting the maxsplit parameter to 1, will return a list with 2 elements!\n",
    "x = txt.split(\"#\", 1)\n",
    "\n",
    "print(x)"
   ]
  },
  {
   "cell_type": "code",
   "execution_count": 164,
   "id": "8b5c03e4-0845-478a-96ad-f2fff58b99e6",
   "metadata": {},
   "outputs": [
    {
     "name": "stdout",
     "output_type": "stream",
     "text": [
      "['apple', 'banana', 'cherry', 'dragonfruit', 'orange']\n"
     ]
    }
   ],
   "source": [
    "txt = \"apple#banana#cherry#dragonfruit#orange\"\n",
    "x = txt.split('#',-1)\n",
    "print(x)"
   ]
  },
  {
   "cell_type": "code",
   "execution_count": 166,
   "id": "9ca61028-58d1-4758-be83-c84ff20b0039",
   "metadata": {},
   "outputs": [
    {
     "name": "stdout",
     "output_type": "stream",
     "text": [
      "['apple', 'banana', 'cherry', 'orange']\n",
      "['apple', 'banana', 'cherry', 'orange']\n"
     ]
    }
   ],
   "source": [
    "txt = \"apple#banana#cherry#orange\"\n",
    "\n",
    "print(txt.split(\"#\"))\n",
    "print(txt.split('#',-1))\n"
   ]
  },
  {
   "cell_type": "code",
   "execution_count": 167,
   "id": "72a626c8-f687-4d3b-9d72-13415338dd1a",
   "metadata": {},
   "outputs": [
    {
     "name": "stdout",
     "output_type": "stream",
     "text": [
      "Lorem ipsum dolor sit amet,\n",
      "consectetur adipiscing elit,\n",
      "sed do eiusmod tempor incididunt\n",
      "ut labore et dolore magna aliqua.\n"
     ]
    }
   ],
   "source": [
    "a = '''Lorem ipsum dolor sit amet,\n",
    "consectetur adipiscing elit,\n",
    "sed do eiusmod tempor incididunt\n",
    "ut labore et dolore magna aliqua.'''\n",
    "print(a)"
   ]
  },
  {
   "cell_type": "code",
   "execution_count": 168,
   "id": "44cb8a72-da5f-4d3d-95d8-b4f04cf924b0",
   "metadata": {},
   "outputs": [
    {
     "name": "stdout",
     "output_type": "stream",
     "text": [
      "Lorem ipsum dolor sit amet,\n",
      "consectetur adipiscing elit,\n",
      "sed do eiusmod tempor incididunt\n",
      "ut labore et dolore magna aliqua.\n"
     ]
    }
   ],
   "source": [
    "a = \"\"\"Lorem ipsum dolor sit amet,\n",
    "consectetur adipiscing elit,\n",
    "sed do eiusmod tempor incididunt\n",
    "ut labore et dolore magna aliqua.\"\"\"\n",
    "print(a)"
   ]
  },
  {
   "cell_type": "markdown",
   "id": "d543f080-1377-44c4-ab44-860cdfc63b3b",
   "metadata": {
    "jupyter": {
     "source_hidden": true
    }
   },
   "source": [
    "# Placeholders and Modifiers\n",
    "### A placeholder can contain variables, operations, functions, and modifiers to format the value."
   ]
  },
  {
   "cell_type": "code",
   "execution_count": 175,
   "id": "a478c193-1688-4458-9231-b5c96c18d312",
   "metadata": {},
   "outputs": [
    {
     "name": "stdout",
     "output_type": "stream",
     "text": [
      "my name is {name} and my age is {age}\n"
     ]
    }
   ],
   "source": [
    "name = \"arjun\"\n",
    "age = 20\n",
    "\n",
    "result  = \"my name is {name} and my age is {age}\"\n",
    "print(result)"
   ]
  },
  {
   "cell_type": "code",
   "execution_count": 239,
   "id": "a1110147-2efb-4970-af7c-09c9129d8bc2",
   "metadata": {},
   "outputs": [
    {
     "name": "stdout",
     "output_type": "stream",
     "text": [
      "my name is arjun and my age is 20\n",
      "my name is 20 and my age is arjun\n",
      "my name is arjun and my age is 20\n"
     ]
    }
   ],
   "source": [
    "name = \"arjun\"\n",
    "age = 20\n",
    "\n",
    "result  = f\"my name is {name} and my age is {age}\" # formatign without formate funtion\n",
    "print(result)\n",
    "\n",
    "print('my name is {1} and my age is {0}'.format(name, age))\n",
    "print('my name is {name} and my age is {age}'.format(name=name, age=age))\n"
   ]
  },
  {
   "cell_type": "code",
   "execution_count": 182,
   "id": "501bd114-f74a-4dba-be3e-17132923cb3b",
   "metadata": {},
   "outputs": [
    {
     "name": "stdout",
     "output_type": "stream",
     "text": [
      " my pen price is 10\n"
     ]
    }
   ],
   "source": [
    "price =10\n",
    "text = f' my pen price is {price}'\n",
    "print(text)"
   ]
  },
  {
   "cell_type": "code",
   "execution_count": 184,
   "id": "064e55f6-4703-4b2e-9772-068cab94db5d",
   "metadata": {},
   "outputs": [
    {
     "name": "stdout",
     "output_type": "stream",
     "text": [
      "The price is 59.00 dollars\n"
     ]
    }
   ],
   "source": [
    "price = 59\n",
    "txt = f'The price is {price:.2f} dollars'\n",
    "print(txt)\n",
    "\n",
    "\n"
   ]
  },
  {
   "cell_type": "code",
   "execution_count": 186,
   "id": "11536563-868c-40d8-a1a4-57d2423338c3",
   "metadata": {},
   "outputs": [
    {
     "name": "stdout",
     "output_type": "stream",
     "text": [
      "The price is 1180 dollars\n"
     ]
    }
   ],
   "source": [
    "txt = f\"The price is {20 * 59} dollars\"\n",
    "print(txt)"
   ]
  },
  {
   "cell_type": "code",
   "execution_count": 187,
   "id": "450f3ab8-27c2-40c3-9351-a32a751c4d76",
   "metadata": {},
   "outputs": [
    {
     "ename": "SyntaxError",
     "evalue": "invalid syntax (4013392309.py, line 1)",
     "output_type": "error",
     "traceback": [
      "\u001b[1;36m  Cell \u001b[1;32mIn[187], line 1\u001b[1;36m\u001b[0m\n\u001b[1;33m    txt = \"We are the so-called \"Vikings\" from the north.\"\u001b[0m\n\u001b[1;37m                                 ^\u001b[0m\n\u001b[1;31mSyntaxError\u001b[0m\u001b[1;31m:\u001b[0m invalid syntax\n"
     ]
    }
   ],
   "source": [
    "txt = \"We are the so-called \"Vikings\" from the NORTH.\"\n",
    "print(txt)"
   ]
  },
  {
   "cell_type": "code",
   "execution_count": 189,
   "id": "018c5f65-ab91-4d9b-a747-ac827a4cfb33",
   "metadata": {},
   "outputs": [
    {
     "name": "stdout",
     "output_type": "stream",
     "text": [
      "We are the so-called 'Vikings' from the north.\n"
     ]
    }
   ],
   "source": [
    "txt = \"We are the so-called \\'Vikings\\' from the north.\"\n",
    "print(txt)"
   ]
  },
  {
   "cell_type": "code",
   "execution_count": 192,
   "id": "f7ec247f-0949-45d1-8a74-e052c10855c1",
   "metadata": {},
   "outputs": [
    {
     "name": "stdout",
     "output_type": "stream",
     "text": [
      "we are the so-called 'vikings' from the north.\n",
      "we are the so-called 'vikings' from the north.\n"
     ]
    }
   ],
   "source": [
    "print(txt.casefold())\n",
    "print(txt.lower())\n",
    "print(txt.casefold())"
   ]
  },
  {
   "cell_type": "code",
   "execution_count": 193,
   "id": "96ebe493-f13a-4381-a3c0-10efc6de986c",
   "metadata": {},
   "outputs": [
    {
     "name": "stdout",
     "output_type": "stream",
     "text": [
      "We are the so-called 'Vikings' from the north.\n"
     ]
    }
   ],
   "source": [
    "print(txt)"
   ]
  },
  {
   "cell_type": "code",
   "execution_count": 198,
   "id": "79cabb6b-52c8-468e-8c1e-a921a2d641a1",
   "metadata": {},
   "outputs": [
    {
     "name": "stdout",
     "output_type": "stream",
     "text": [
      "How are you arjun \n"
     ]
    }
   ],
   "source": [
    "print(\"How are you {} \".format(\"arjun\"))"
   ]
  },
  {
   "cell_type": "code",
   "execution_count": 201,
   "id": "da9b130b-69fd-4f9a-8cd1-82a07e19bc3b",
   "metadata": {},
   "outputs": [
    {
     "name": "stdout",
     "output_type": "stream",
     "text": [
      "How are you arjun, How are you  doing \n"
     ]
    }
   ],
   "source": [
    "print('How are you {}, How are you {} '.format('arjun', 'doing'))"
   ]
  },
  {
   "cell_type": "code",
   "execution_count": 204,
   "id": "cc6e5a4c-e968-4959-9563-da98f76d767a",
   "metadata": {},
   "outputs": [
    {
     "name": "stdout",
     "output_type": "stream",
     "text": [
      "How are you doing, How are you  arjun\n"
     ]
    }
   ],
   "source": [
    "print('How are you {1}, How are you {0}'.format('arjun', 'doing'))"
   ]
  },
  {
   "cell_type": "code",
   "execution_count": 205,
   "id": "7df7408a-2ef7-4d42-9697-38551d8f1d61",
   "metadata": {},
   "outputs": [
    {
     "name": "stdout",
     "output_type": "stream",
     "text": [
      "How are you arjun, How are you  doing\n"
     ]
    }
   ],
   "source": [
    "print('How are you {a}, How are you {b}'.format( a= 'arjun', b = 'doing'))"
   ]
  },
  {
   "cell_type": "code",
   "execution_count": 206,
   "id": "2664da22-7154-4e83-b086-7a404f98227d",
   "metadata": {},
   "outputs": [
    {
     "name": "stdout",
     "output_type": "stream",
     "text": [
      "How are you arjun, How are you arjun\n"
     ]
    }
   ],
   "source": [
    "print('How are you {a}, How are you {a}'.format( a= 'arjun', b = 'doing'))"
   ]
  },
  {
   "cell_type": "code",
   "execution_count": 207,
   "id": "28244f96-fa8b-41d3-8556-8c852962ddd1",
   "metadata": {},
   "outputs": [],
   "source": [
    "result =100/177"
   ]
  },
  {
   "cell_type": "code",
   "execution_count": 208,
   "id": "0f858732-9d52-4223-87b4-aa22cfe1d7a0",
   "metadata": {},
   "outputs": [
    {
     "name": "stdout",
     "output_type": "stream",
     "text": [
      "0.5649717514124294\n"
     ]
    }
   ],
   "source": [
    "print(result)"
   ]
  },
  {
   "cell_type": "code",
   "execution_count": 226,
   "id": "d80a66d6-d647-47e9-920c-9baf8ba29792",
   "metadata": {},
   "outputs": [
    {
     "name": "stdout",
     "output_type": "stream",
     "text": [
      "the result is 0.5649717514124294\n",
      "the result is 0.5649717514124294\n",
      "0.56\n",
      "the result is 0.56\n"
     ]
    }
   ],
   "source": [
    "print('the result is {}'.format(result))\n",
    "print('the result is {f}'.format(f = result))\n",
    "new_esult = round(result, 2)\n",
    "print(new_esult)\n",
    "print('the result is {f}'.format(f = round(result, 2)))"
   ]
  },
  {
   "cell_type": "code",
   "execution_count": 221,
   "id": "9052d70b-e90c-4483-b11c-4be80a6a7444",
   "metadata": {},
   "outputs": [
    {
     "name": "stdout",
     "output_type": "stream",
     "text": [
      "2\n",
      "4\n",
      "3.14\n"
     ]
    }
   ],
   "source": [
    "    print(round(2.5))  # Output: 2\n",
    "    print(round(3.5))  # Output: 4\n",
    "    print(round(3.14159, 2)) # Output: 3.14"
   ]
  },
  {
   "cell_type": "code",
   "execution_count": 231,
   "id": "d80476ee-5a07-4af5-ae7d-91ecd3ffe801",
   "metadata": {},
   "outputs": [
    {
     "name": "stdout",
     "output_type": "stream",
     "text": [
      "the result is 0.56\n"
     ]
    }
   ],
   "source": [
    "print('the result is {r:1.2f}'.format(r=result)) #rouning with formate"
   ]
  },
  {
   "cell_type": "code",
   "execution_count": null,
   "id": "f03b1124-a1a3-4646-b714-5d508e5a7f95",
   "metadata": {},
   "outputs": [],
   "source": []
  }
 ],
 "metadata": {
  "kernelspec": {
   "display_name": "Python 3 (ipykernel)",
   "language": "python",
   "name": "python3"
  },
  "language_info": {
   "codemirror_mode": {
    "name": "ipython",
    "version": 3
   },
   "file_extension": ".py",
   "mimetype": "text/x-python",
   "name": "python",
   "nbconvert_exporter": "python",
   "pygments_lexer": "ipython3",
   "version": "3.13.5"
  }
 },
 "nbformat": 4,
 "nbformat_minor": 5
}
