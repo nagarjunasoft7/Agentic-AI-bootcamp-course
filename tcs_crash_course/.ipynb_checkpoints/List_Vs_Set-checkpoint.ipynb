{
 "cells": [
  {
   "cell_type": "markdown",
   "id": "a9b734cd-a21d-4565-ab0b-22aa17ba640c",
   "metadata": {},
   "source": [
    "# list and set difference in python"
   ]
  },
  {
   "cell_type": "code",
   "execution_count": null,
   "id": "7cb901ef-320d-4c91-a4bc-9e9ec7fc49ed",
   "metadata": {},
   "outputs": [],
   "source": [
    "'''\n",
    "\n",
    "\n",
    "Lists:\n",
    "    Ordered: Elements in a list maintain a specific order based on their insertion sequence. This order is preserved, and elements can be accessed by their index.\n",
    "    Mutable: Lists can be modified after creation. Elements can be added, removed, or changed.\n",
    "    Allows Duplicates: Lists can contain multiple occurrences of the same element.\n",
    "    Syntax: Defined using square brackets [].\n",
    "    \n",
    "Sets:\n",
    "\n",
    "    Unordered: Elements in a set do not maintain a specific order. The order of elements may change.\n",
    "    Mutable: Sets are mutable, allowing the addition and removal of elements, but individual elements within the set cannot be modified in place.\n",
    "    Unique Elements: Sets only store unique elements. Duplicate elements are automatically discarded when added to a set.\n",
    "    No Indexing: Due to their unordered nature, elements in a set cannot be accessed by index.\n",
    "    Mathematical Set Operations: Sets support operations like union, intersection, and difference, which are based on mathematical set theory.\n",
    "\n",
    "Syntax:\n",
    "Defined using curly braces {} or by converting an iterable to a set using the set() constructor.\n",
    "\n",
    "Difference in Practice:\n",
    "The primary difference lies in the handling of order and duplicates. Lists are suitable when the order of elements is\n",
    "important and duplicates are allowed, such as storing a sequence of events or items in a specific order. \n",
    "Sets are ideal when you need a collection of unique items and the order is not a concern, such as for membership testing,\n",
    "eliminating duplicates from a collection, or performing set-theoretic operations.\n",
    "\n",
    "Example:\n",
    "\n",
    "\n",
    "# List example\n",
    "        my_list = [1, 2, 2, 3, 4, 1]\n",
    "        print(f\"Original list: {my_list}\")\n",
    "        my_list.append(5)\n",
    "        print(f\"List after adding 5: {my_list}\")\n",
    "        print(f\"Element at index 2: {my_list[2]}\")\n",
    "\n",
    "# Set example\n",
    "        my_set = {1, 2, 2, 3, 4, 1} # Duplicates are automatically removed\n",
    "        print(f\"Original set: {my_set}\")\n",
    "        my_set.add(5)\n",
    "        print(f\"Set after adding 5: {my_set}\")\n",
    "        # print(my_set[2]) # This would raise an error as sets are not indexed\n",
    "\n",
    "\n",
    "\n",
    "\n",
    "'''"
   ]
  },
  {
   "cell_type": "code",
   "execution_count": null,
   "id": "cf1df3fc-2283-478f-8588-d7dd45528ee7",
   "metadata": {},
   "outputs": [],
   "source": [
    "'''\n",
    "\n",
    "\n",
    "\n",
    "Python utilizes append() for lists and add() for sets due to the fundamental differences in how these data structures store and manage elements: \n",
    "\n",
    "Lists are ordered sequences:\n",
    "Lists maintain the order of elements as they are added. The append() method specifically reflects this by adding an element to the end of the list. The term \"append\" implies adding something at a specific, known position (the end).\n",
    "\n",
    "Sets are unordered collections of unique elements:\n",
    "Sets, by definition, do not maintain any specific order of elements. When an element is added to a set, its position within the underlying data structure is determined by hashing and is not predictable or user-controllable. The add() method accurately represents this operation, as it simply adds an element to the collection without implying any positional placement. If the element already exists in the set, add() has no effect, ensuring uniqueness.\n",
    "\n",
    "\n",
    "\n",
    "'''"
   ]
  }
 ],
 "metadata": {
  "kernelspec": {
   "display_name": "Python 3 (ipykernel)",
   "language": "python",
   "name": "python3"
  },
  "language_info": {
   "codemirror_mode": {
    "name": "ipython",
    "version": 3
   },
   "file_extension": ".py",
   "mimetype": "text/x-python",
   "name": "python",
   "nbconvert_exporter": "python",
   "pygments_lexer": "ipython3",
   "version": "3.13.5"
  }
 },
 "nbformat": 4,
 "nbformat_minor": 5
}
