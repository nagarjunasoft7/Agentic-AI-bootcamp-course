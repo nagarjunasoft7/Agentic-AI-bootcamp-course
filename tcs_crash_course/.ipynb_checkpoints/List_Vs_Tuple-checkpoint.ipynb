{
 "cells": [
  {
   "cell_type": "markdown",
   "id": "51899c36-4023-404b-a188-8432317c30ec",
   "metadata": {},
   "source": [
    "# List Vs Tuple"
   ]
  },
  {
   "cell_type": "code",
   "execution_count": 1,
   "id": "eefb605e-6282-400e-bb83-0cc513c6b7b6",
   "metadata": {},
   "outputs": [
    {
     "ename": "_IncompleteInputError",
     "evalue": "incomplete input (3857640367.py, line 1)",
     "output_type": "error",
     "traceback": [
      "\u001b[1;36m  Cell \u001b[1;32mIn[1], line 1\u001b[1;36m\u001b[0m\n\u001b[1;33m    '''\u001b[0m\n\u001b[1;37m    ^\u001b[0m\n\u001b[1;31m_IncompleteInputError\u001b[0m\u001b[1;31m:\u001b[0m incomplete input\n"
     ]
    }
   ],
   "source": [
    "'''\n",
    "\n",
    "Mutability:\n",
    "    Lists: are mutable, meaning their elements can be modified (added, removed, or changed) after creation.\n",
    "    Tuples: are immutable, meaning their elements cannot be changed after the tuple is created.\n",
    "    \n",
    "Syntax:\n",
    "    Lists: are defined using square brackets [].\n",
    "    Tuples: are defined using parentheses ().\n",
    "    \n",
    "Performance:\n",
    "    Tuples: are generally more memory-efficient and faster than lists for operations like iteration and access, primarily because their fixed size allows for optimizations.\n",
    "    Lists, due to their mutability and dynamic sizing, can be less performant in scenarios where immutability would be beneficial.\n",
    "    \n",
    "Use Cases:\n",
    "    Lists: are suitable when you need a collection of items that will be frequently modified, such as adding or removing elements.\n",
    "    Tuples: are ideal for storing fixed collections of related data, such as coordinates, database records, or function return values, where data integrity is important.\n",
    "\n",
    "\n",
    "List                                                             Tuple\n",
    "\"\"\"\"\"\"\"\"\"\"\"\"\"\"\"\"\"\"\"\"\"\"\"\"\"\"\"\"\"\"\"\"\"\"\"\"\"\"\"\"\"\"\"\"\"\"\"\"\"\"\"\"\"\"\"\"\"\"\"\"\"\"\"\"\"\"\"\"\"\"\"\"\"\"\"\"\"\"\"\"\"\"\"\n",
    "1\tLists are mutable(can be modified).\t\t\t\t\t\t1. Tuples are immutable(cannot be modified).\n",
    "2\tIteration over lists is time-consuming.\t\t\t\t\t2. Iterations over tuple is faster\n",
    "3\tLists are better for performing operations,\n",
    "\tsuch as insertion and deletion.\t\t\t\t\t\t\t3. Tuples are more suitable for accessing elements efficiently.\n",
    "4\tLists consume more memory.\t\t\t\t\t\t\t\t4. Tuples consumes less memory\n",
    "5\tLists have several built-in methods.\t\t\t\t\t5. Tuples have fewer built-in methods.\n",
    "6\tLists are more prone to unexpected changes and errors.\t5. Tuples, being immutable are less error prone.\n",
    "\n",
    "\n",
    "Example:\n",
    "Python\n",
    "\n",
    "# List (mutable)\n",
    "    my_list = [1, 2, 3]\n",
    "    my_list.append(4)  # Modifying the list\n",
    "    print(my_list)     # Output: [1, 2, 3, 4]\n",
    "\n",
    "# Tuple (immutable)\n",
    "    my_tuple = (1, 2, 3)\n",
    "    # my_tuple.append(4) # This would raise an AttributeError\n",
    "    print(my_tuple)    # Output: (1, 2, 3)\n",
    "\n",
    "\n",
    "'''"
   ]
  },
  {
   "cell_type": "code",
   "execution_count": null,
   "id": "453e3e01-34f2-4fc9-a736-ae360dda7b63",
   "metadata": {},
   "outputs": [],
   "source": []
  }
 ],
 "metadata": {
  "kernelspec": {
   "display_name": "Python 3 (ipykernel)",
   "language": "python",
   "name": "python3"
  },
  "language_info": {
   "codemirror_mode": {
    "name": "ipython",
    "version": 3
   },
   "file_extension": ".py",
   "mimetype": "text/x-python",
   "name": "python",
   "nbconvert_exporter": "python",
   "pygments_lexer": "ipython3",
   "version": "3.13.5"
  }
 },
 "nbformat": 4,
 "nbformat_minor": 5
}
