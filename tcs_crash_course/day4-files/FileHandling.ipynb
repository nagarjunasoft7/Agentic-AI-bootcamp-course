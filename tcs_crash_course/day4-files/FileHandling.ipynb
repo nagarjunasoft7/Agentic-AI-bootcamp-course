{
 "cells": [
  {
   "cell_type": "markdown",
   "id": "79f34d63-ea4e-4d63-add3-13c978300450",
   "metadata": {},
   "source": [
    "### \"%%writefile\"  will be works in Juyter notebook. if you are using any other tool then create \"myfile.txt\" file manually on the same packge to use below file operations"
   ]
  },
  {
   "cell_type": "code",
   "execution_count": 2,
   "id": "ac7b20b4-883d-475f-a133-2f038c813c76",
   "metadata": {},
   "outputs": [
    {
     "name": "stdout",
     "output_type": "stream",
     "text": [
      "Writing myfile.txt\n"
     ]
    }
   ],
   "source": [
    "%%writefile myfile.txt\n",
    "Hello this is a text file\n",
    "this is second line\n",
    "this is third line"
   ]
  },
  {
   "cell_type": "code",
   "execution_count": 22,
   "id": "48624f08-4a2c-4f92-8471-bbb01f1d6fd6",
   "metadata": {},
   "outputs": [],
   "source": [
    "my_file = open('myfile.txt')"
   ]
  },
  {
   "cell_type": "code",
   "execution_count": 21,
   "id": "72e4f8eb-8de1-45ce-9356-7fc93fd708d6",
   "metadata": {},
   "outputs": [
    {
     "name": "stdout",
     "output_type": "stream",
     "text": [
      "Hello this is a text file\n",
      "this is second line\n",
      "this is third line\n",
      "\n"
     ]
    }
   ],
   "source": [
    "content = my_file.read()\n",
    "print(content)"
   ]
  },
  {
   "cell_type": "markdown",
   "id": "c01afc76-0132-426b-9d0f-256e4cce193f",
   "metadata": {},
   "source": [
    "#### FileNotFoundError"
   ]
  },
  {
   "cell_type": "code",
   "execution_count": 8,
   "id": "9a497083-a492-442c-9d84-8ca9fc61cb7c",
   "metadata": {},
   "outputs": [],
   "source": [
    "\n",
    "#my_file = open('testign.txt') #FileNotFoundError: [Errno 2] No such file or directory: 'testign.txt'"
   ]
  },
  {
   "cell_type": "code",
   "execution_count": 10,
   "id": "c6726476-9130-4f28-8649-73d4eb030f24",
   "metadata": {},
   "outputs": [
    {
     "data": {
      "text/plain": [
       "'C:\\\\Users\\\\nagar\\\\python\\\\Agentic-AI-bootcamp-course\\\\tcs_crash_course\\\\day4'"
      ]
     },
     "execution_count": 10,
     "metadata": {},
     "output_type": "execute_result"
    }
   ],
   "source": [
    "pwd # to know the current path"
   ]
  },
  {
   "cell_type": "code",
   "execution_count": 24,
   "id": "7db514da-3865-415e-94e0-1f54403ca1a0",
   "metadata": {},
   "outputs": [],
   "source": [
    "my_file.close()"
   ]
  },
  {
   "cell_type": "code",
   "execution_count": 25,
   "id": "1779309d-14aa-4d32-ad0b-59103e660d37",
   "metadata": {},
   "outputs": [
    {
     "ename": "ValueError",
     "evalue": "I/O operation on closed file.",
     "output_type": "error",
     "traceback": [
      "\u001b[1;31m---------------------------------------------------------------------------\u001b[0m",
      "\u001b[1;31mValueError\u001b[0m                                Traceback (most recent call last)",
      "Cell \u001b[1;32mIn[25], line 1\u001b[0m\n\u001b[1;32m----> 1\u001b[0m content \u001b[38;5;241m=\u001b[39m my_file\u001b[38;5;241m.\u001b[39mread()\n\u001b[0;32m      2\u001b[0m \u001b[38;5;28mprint\u001b[39m(content)\n",
      "\u001b[1;31mValueError\u001b[0m: I/O operation on closed file."
     ]
    }
   ],
   "source": [
    "content = my_file.read()\n",
    "print(content)"
   ]
  },
  {
   "cell_type": "code",
   "execution_count": 12,
   "id": "7bc74257-0004-4350-a5b4-a68fdcf8e675",
   "metadata": {},
   "outputs": [
    {
     "data": {
      "text/plain": [
       "'C:\\\\Users\\\\nagar\\\\python\\\\Agentic-AI-bootcamp-course\\\\tcs_crash_course\\\\day4'"
      ]
     },
     "execution_count": 12,
     "metadata": {},
     "output_type": "execute_result"
    }
   ],
   "source": [
    "pwd"
   ]
  },
  {
   "cell_type": "code",
   "execution_count": 26,
   "id": "6ad622aa-dae5-4c66-b231-d7ec6f4cdecb",
   "metadata": {},
   "outputs": [
    {
     "name": "stdout",
     "output_type": "stream",
     "text": [
      "Hello this is a text file\n",
      "this is second line\n",
      "this is third line\n",
      "\n"
     ]
    }
   ],
   "source": [
    "with open ('myfile.txt',  mode='r') as my_file:\n",
    "    content = my_file.read()\n",
    "    print(content)"
   ]
  },
  {
   "cell_type": "code",
   "execution_count": 27,
   "id": "07e36aa1-5d30-477f-87e2-7f3540efa009",
   "metadata": {},
   "outputs": [
    {
     "ename": "UnsupportedOperation",
     "evalue": "not readable",
     "output_type": "error",
     "traceback": [
      "\u001b[1;31m---------------------------------------------------------------------------\u001b[0m",
      "\u001b[1;31mUnsupportedOperation\u001b[0m                      Traceback (most recent call last)",
      "Cell \u001b[1;32mIn[27], line 2\u001b[0m\n\u001b[0;32m      1\u001b[0m \u001b[38;5;28;01mwith\u001b[39;00m \u001b[38;5;28mopen\u001b[39m (\u001b[38;5;124m'\u001b[39m\u001b[38;5;124mmyfile.txt\u001b[39m\u001b[38;5;124m'\u001b[39m,  mode\u001b[38;5;241m=\u001b[39m\u001b[38;5;124m'\u001b[39m\u001b[38;5;124mw\u001b[39m\u001b[38;5;124m'\u001b[39m) \u001b[38;5;28;01mas\u001b[39;00m my_file:\n\u001b[1;32m----> 2\u001b[0m     content \u001b[38;5;241m=\u001b[39m my_file\u001b[38;5;241m.\u001b[39mread()\n\u001b[0;32m      3\u001b[0m     \u001b[38;5;28mprint\u001b[39m(content)\n",
      "\u001b[1;31mUnsupportedOperation\u001b[0m: not readable"
     ]
    }
   ],
   "source": [
    "with open ('myfile.txt',  mode='w') as my_file:\n",
    "    content = my_file.read()\n",
    "    print(content)"
   ]
  },
  {
   "cell_type": "markdown",
   "id": "41a3b4e4-38e3-4f0c-a0a7-af65fe47654e",
   "metadata": {},
   "source": [
    "### The available modes are:"
   ]
  },
  {
   "cell_type": "code",
   "execution_count": 28,
   "id": "19a1c76f-2267-4886-9674-79fcaa540f60",
   "metadata": {},
   "outputs": [
    {
     "ename": "_IncompleteInputError",
     "evalue": "incomplete input (528444692.py, line 1)",
     "output_type": "error",
     "traceback": [
      "\u001b[1;36m  Cell \u001b[1;32mIn[28], line 1\u001b[1;36m\u001b[0m\n\u001b[1;33m    with open( 'filename', mode =\u001b[0m\n\u001b[1;37m                                 ^\u001b[0m\n\u001b[1;31m_IncompleteInputError\u001b[0m\u001b[1;31m:\u001b[0m incomplete input\n"
     ]
    }
   ],
   "source": [
    "with open( 'filename', mode = 't') as ---\n",
    "\"\"\"\n",
    "          Character Meaning\n",
    "--------- ---------------------------------------------------------------\n",
    "'r'       open for reading (default)\n",
    "'w'       open for writing, truncating the file first (overwrite if exists or else creat new file)\n",
    "'x'       create a new file and open it for writing\n",
    "'a'       open for writing, appending to the end of the file if it exists\n",
    "'b'       binary mode\n",
    "'t'       text mode (default)\n",
    "'+'       open a disk file for updating (reading and writing)\n",
    "\n",
    "\"\"\""
   ]
  },
  {
   "cell_type": "code",
   "execution_count": 29,
   "id": "8571484a-d618-42bb-aeeb-4556ae2b15f4",
   "metadata": {},
   "outputs": [
    {
     "name": "stderr",
     "output_type": "stream",
     "text": [
      "UsageError: %%writefile is a cell magic, but the cell body is empty.\n"
     ]
    }
   ],
   "source": [
    "%%writefile my_file_arjun.txt"
   ]
  },
  {
   "cell_type": "code",
   "execution_count": 38,
   "id": "adf81524-1948-44b1-90a8-6e6728c59874",
   "metadata": {},
   "outputs": [
    {
     "name": "stdout",
     "output_type": "stream",
     "text": [
      "Overwriting my_file_arjun.txt\n"
     ]
    }
   ],
   "source": [
    "%%writefile my_file_arjun.txt\n",
    "this is new file \n",
    "creating to test with the existing modes"
   ]
  },
  {
   "cell_type": "code",
   "execution_count": 39,
   "id": "4050363e-6201-4d80-86e1-6f401878059e",
   "metadata": {},
   "outputs": [
    {
     "name": "stdout",
     "output_type": "stream",
     "text": [
      "this is new file \n",
      "creating to test with the existing modes\n",
      "\n"
     ]
    }
   ],
   "source": [
    "with open('my_file_arjun.txt', mode='r') as f:\n",
    "    print(f.read())"
   ]
  },
  {
   "cell_type": "code",
   "execution_count": 40,
   "id": "0705b913-9522-41e7-a4c0-bbf48b8ff2d0",
   "metadata": {},
   "outputs": [],
   "source": [
    "with open('my_file_arjun.txt', mode='a') as f:\n",
    "    f.write('\\nAdding new line uwing write() function')"
   ]
  },
  {
   "cell_type": "code",
   "execution_count": 41,
   "id": "b5769b65-80d1-4cba-9637-a28464aa297c",
   "metadata": {},
   "outputs": [
    {
     "name": "stdout",
     "output_type": "stream",
     "text": [
      "this is new file \n",
      "creating to test with the existing modes\n",
      "\n",
      "Adding new line uwing write() function\n"
     ]
    }
   ],
   "source": [
    "with open('my_file_arjun.txt', mode='r') as f:\n",
    "    print(f.read())"
   ]
  },
  {
   "cell_type": "code",
   "execution_count": 43,
   "id": "755e375d-935a-41ea-af53-718b0b0b6f7c",
   "metadata": {},
   "outputs": [],
   "source": [
    "with open('sample.txt', mode='w') as f:  # sample.txt is not exits so create new file\n",
    "   f.write('Trying to operate using mode - w')"
   ]
  },
  {
   "cell_type": "code",
   "execution_count": 45,
   "id": "abfcf540-00dd-437b-a200-8f29e9e48c3a",
   "metadata": {},
   "outputs": [
    {
     "name": "stdout",
     "output_type": "stream",
     "text": [
      "Trying to operate using mode - w\n"
     ]
    }
   ],
   "source": [
    "with open('sample.txt', mode='r') as f:\n",
    "    print(f.read())"
   ]
  },
  {
   "cell_type": "code",
   "execution_count": null,
   "id": "9c0df1e4-0298-4c1e-b33e-2f5c7e578387",
   "metadata": {},
   "outputs": [],
   "source": []
  }
 ],
 "metadata": {
  "kernelspec": {
   "display_name": "Python 3 (ipykernel)",
   "language": "python",
   "name": "python3"
  },
  "language_info": {
   "codemirror_mode": {
    "name": "ipython",
    "version": 3
   },
   "file_extension": ".py",
   "mimetype": "text/x-python",
   "name": "python",
   "nbconvert_exporter": "python",
   "pygments_lexer": "ipython3",
   "version": "3.13.5"
  }
 },
 "nbformat": 4,
 "nbformat_minor": 5
}
