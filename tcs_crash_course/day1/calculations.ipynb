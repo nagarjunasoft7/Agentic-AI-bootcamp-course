{
 "cells": [
  {
   "cell_type": "markdown",
   "id": "11180d66-f24f-4cd8-b00b-842b3426de68",
   "metadata": {},
   "source": [
    "# First program"
   ]
  },
  {
   "cell_type": "markdown",
   "id": "eebc2816-6e2c-4dbb-a1ff-62fd79a21190",
   "metadata": {},
   "source": [
    "# this is the first comment\n",
    "## and this is the second comment\n",
    "\n",
    "text = \"# This is not a comment because it's inside quotes.\""
   ]
  },
  {
   "cell_type": "code",
   "execution_count": 15,
   "id": "6fd697da-25b6-482f-83e3-8fb3d9a98e1d",
   "metadata": {},
   "outputs": [
    {
     "data": {
      "text/plain": [
       "2344"
      ]
     },
     "execution_count": 15,
     "metadata": {},
     "output_type": "execute_result"
    }
   ],
   "source": [
    "# Addition\n",
    "2+1\n",
    "2342+2"
   ]
  },
  {
   "cell_type": "code",
   "execution_count": 20,
   "id": "418d3d04-b97f-48ad-9e73-7df76c36a5bb",
   "metadata": {},
   "outputs": [
    {
     "data": {
      "text/plain": [
       "100000099999999999999999998"
      ]
     },
     "execution_count": 20,
     "metadata": {},
     "output_type": "execute_result"
    }
   ],
   "source": [
    "99999999999999999999999999+99999999999999999999"
   ]
  },
  {
   "cell_type": "code",
   "execution_count": 23,
   "id": "2184c4c2-fb86-4fd4-a828-5b1fb9f2dda6",
   "metadata": {},
   "outputs": [
    {
     "data": {
      "text/plain": [
       "900000"
      ]
     },
     "execution_count": 23,
     "metadata": {},
     "output_type": "execute_result"
    }
   ],
   "source": [
    "# Subtraction\n",
    "999999-99999\n"
   ]
  },
  {
   "cell_type": "code",
   "execution_count": 25,
   "id": "5ab976d6-7b67-40d6-98c0-9ea1d8b258f8",
   "metadata": {},
   "outputs": [
    {
     "data": {
      "text/plain": [
       "1.5"
      ]
     },
     "execution_count": 25,
     "metadata": {},
     "output_type": "execute_result"
    }
   ],
   "source": [
    "# Division\n",
    "3/2 # division always returns a floating-point number"
   ]
  },
  {
   "cell_type": "code",
   "execution_count": 11,
   "id": "390a6314-a347-4bed-9eb0-86d037c8f8fc",
   "metadata": {},
   "outputs": [
    {
     "name": "stdout",
     "output_type": "stream",
     "text": [
      "4\n",
      "20\n",
      "5.0\n",
      "1.6\n"
     ]
    }
   ],
   "source": [
    "print(2 + 2)\n",
    "\n",
    "print(50 - 5*6)\n",
    "\n",
    "print((50 - 5*6) / 4) \n",
    "\n",
    "print(8 / 5)  "
   ]
  },
  {
   "cell_type": "code",
   "execution_count": 27,
   "id": "37595820-151d-4084-a7a0-486ae8196df9",
   "metadata": {},
   "outputs": [
    {
     "data": {
      "text/plain": [
       "5.666666666666667"
      ]
     },
     "execution_count": 27,
     "metadata": {},
     "output_type": "execute_result"
    }
   ],
   "source": [
    "17 / 3  # classic division returns a float"
   ]
  },
  {
   "cell_type": "code",
   "execution_count": 28,
   "id": "3ad6dca7-f037-4477-970b-c65f9149a934",
   "metadata": {},
   "outputs": [
    {
     "data": {
      "text/plain": [
       "5"
      ]
     },
     "execution_count": 28,
     "metadata": {},
     "output_type": "execute_result"
    }
   ],
   "source": [
    "\n",
    "17 // 3  # floor division discards the fractional part\n"
   ]
  },
  {
   "cell_type": "code",
   "execution_count": 29,
   "id": "4be48447-2c45-4237-8438-22fa232d4119",
   "metadata": {},
   "outputs": [
    {
     "data": {
      "text/plain": [
       "2"
      ]
     },
     "execution_count": 29,
     "metadata": {},
     "output_type": "execute_result"
    }
   ],
   "source": [
    "17 % 3  # the % operator returns the remainder of the division\n",
    "\n"
   ]
  },
  {
   "cell_type": "code",
   "execution_count": 30,
   "id": "31c825b4-1c18-453b-8367-9c3d03c23d94",
   "metadata": {},
   "outputs": [
    {
     "data": {
      "text/plain": [
       "17"
      ]
     },
     "execution_count": 30,
     "metadata": {},
     "output_type": "execute_result"
    }
   ],
   "source": [
    "5 * 3 + 2  # floored quotient * divisor + remainder"
   ]
  },
  {
   "cell_type": "code",
   "execution_count": 31,
   "id": "df6b9fd7-2126-45a8-af3d-1264ae710a9e",
   "metadata": {},
   "outputs": [
    {
     "data": {
      "text/plain": [
       "18"
      ]
     },
     "execution_count": 31,
     "metadata": {},
     "output_type": "execute_result"
    }
   ],
   "source": [
    "10 + (4 * 2)"
   ]
  },
  {
   "cell_type": "code",
   "execution_count": 32,
   "id": "43b886af-4cd4-495f-95fd-e7203e9b29ae",
   "metadata": {},
   "outputs": [
    {
     "data": {
      "text/plain": [
       "18"
      ]
     },
     "execution_count": 32,
     "metadata": {},
     "output_type": "execute_result"
    }
   ],
   "source": [
    "10 + 4 * 2"
   ]
  },
  {
   "cell_type": "markdown",
   "id": "b212e75a-4b3a-4877-9e9f-b10c25d71b17",
   "metadata": {},
   "source": [
    "# Explanation of BODMAS:\n",
    "\n",
    "## Brackets                    : Calculations within brackets (parentheses, {}, []) are always done first, according to Cuemath.\n",
    "## Orders                      : Next, powers and square roots are calculated.\n",
    "## Division & Multiplication   : These operations are performed from left to right.\n",
    "## Addition & Subtraction      : Finally, addition and subtraction are carried out from left to right. "
   ]
  },
  {
   "cell_type": "code",
   "execution_count": 34,
   "id": "8c488004-5f75-46c1-bd83-38840072160a",
   "metadata": {},
   "outputs": [
    {
     "data": {
      "text/plain": [
       "5.0"
      ]
     },
     "execution_count": 34,
     "metadata": {},
     "output_type": "execute_result"
    }
   ],
   "source": [
    "10 - 4 * 2 + 6 / 2  # BODMAS  10 - 8 + 3 -> 2 + 3 ->  5"
   ]
  },
  {
   "cell_type": "code",
   "execution_count": 37,
   "id": "b9f35f90-f6ea-4e63-ad63-126ef19c309c",
   "metadata": {},
   "outputs": [
    {
     "data": {
      "text/plain": [
       "25"
      ]
     },
     "execution_count": 37,
     "metadata": {},
     "output_type": "execute_result"
    }
   ],
   "source": [
    "5 ** 2  # 5 squared"
   ]
  },
  {
   "cell_type": "code",
   "execution_count": 38,
   "id": "2f35717e-5153-438c-9a6d-4b87abc08ff9",
   "metadata": {},
   "outputs": [
    {
     "data": {
      "text/plain": [
       "128"
      ]
     },
     "execution_count": 38,
     "metadata": {},
     "output_type": "execute_result"
    }
   ],
   "source": [
    "2 ** 7  # 2 to the power of 7"
   ]
  },
  {
   "cell_type": "code",
   "execution_count": 40,
   "id": "1bdd44c7-aa0b-4abf-af53-9765ea4eec96",
   "metadata": {},
   "outputs": [
    {
     "data": {
      "text/plain": [
       "117.0"
      ]
     },
     "execution_count": 40,
     "metadata": {},
     "output_type": "execute_result"
    }
   ],
   "source": [
    "20 + 10 ** 2 - 12 / 4    # 20+100-3 ->  #117  # classic division returns a float"
   ]
  },
  {
   "cell_type": "code",
   "execution_count": 49,
   "id": "e660ade8-bed8-4925-a4e9-48b6ef7c4d90",
   "metadata": {},
   "outputs": [
    {
     "data": {
      "text/plain": [
       "13.0"
      ]
     },
     "execution_count": 49,
     "metadata": {},
     "output_type": "execute_result"
    }
   ],
   "source": [
    " ( 125 * 33 / 11 +  2 ) * 34 / 493 * 0.5   #13 \n"
   ]
  },
  {
   "cell_type": "code",
   "execution_count": 51,
   "id": "077ad7b4-45cd-4d55-ae06-e24d5d2e5336",
   "metadata": {},
   "outputs": [
    {
     "data": {
      "text/plain": [
       "450"
      ]
     },
     "execution_count": 51,
     "metadata": {},
     "output_type": "execute_result"
    }
   ],
   "source": [
    "width = 10\n",
    "height = 5 * 9\n",
    "width * height"
   ]
  },
  {
   "cell_type": "code",
   "execution_count": 52,
   "id": "6c60cc81-80f1-4c8f-bced-f194f4ca70c0",
   "metadata": {},
   "outputs": [
    {
     "ename": "NameError",
     "evalue": "name 'n' is not defined",
     "output_type": "error",
     "traceback": [
      "\u001b[1;31m---------------------------------------------------------------------------\u001b[0m",
      "\u001b[1;31mNameError\u001b[0m                                 Traceback (most recent call last)",
      "Cell \u001b[1;32mIn[52], line 1\u001b[0m\n\u001b[1;32m----> 1\u001b[0m n\n",
      "\u001b[1;31mNameError\u001b[0m: name 'n' is not defined"
     ]
    }
   ],
   "source": [
    "n  # try to access an undefined variable"
   ]
  },
  {
   "cell_type": "code",
   "execution_count": 55,
   "id": "be402516-a4b8-4aad-8397-8e79c0ab43f2",
   "metadata": {},
   "outputs": [
    {
     "data": {
      "text/plain": [
       "float"
      ]
     },
     "execution_count": 55,
     "metadata": {},
     "output_type": "execute_result"
    }
   ],
   "source": [
    "type(4 * 3.75 - 1)"
   ]
  },
  {
   "cell_type": "code",
   "execution_count": 56,
   "id": "409f82c2-6f50-499b-ae87-621d44da8826",
   "metadata": {},
   "outputs": [
    {
     "data": {
      "text/plain": [
       "14.0"
      ]
     },
     "execution_count": 56,
     "metadata": {},
     "output_type": "execute_result"
    }
   ],
   "source": [
    "4 * 3.75 - 1"
   ]
  },
  {
   "cell_type": "code",
   "execution_count": 60,
   "id": "78034f85-66d3-4959-ba5c-20c1be5bc9be",
   "metadata": {},
   "outputs": [
    {
     "data": {
      "text/plain": [
       "10.0"
      ]
     },
     "execution_count": 60,
     "metadata": {},
     "output_type": "execute_result"
    }
   ],
   "source": [
    "tax = 1000 / 100\n",
    "tax"
   ]
  },
  {
   "cell_type": "code",
   "execution_count": 61,
   "id": "5ae71113-646b-4e85-81cc-e51ec3716adb",
   "metadata": {},
   "outputs": [
    {
     "data": {
      "text/plain": [
       "100.0"
      ]
     },
     "execution_count": 61,
     "metadata": {},
     "output_type": "execute_result"
    }
   ],
   "source": [
    "tax = 1000 / 100\n",
    "price = 10.0\n",
    "price * tax\n"
   ]
  },
  {
   "cell_type": "code",
   "execution_count": 66,
   "id": "fb59a514-0459-4785-bce0-a53ec187c909",
   "metadata": {},
   "outputs": [
    {
     "data": {
      "text/plain": [
       "140.0"
      ]
     },
     "execution_count": 66,
     "metadata": {},
     "output_type": "execute_result"
    }
   ],
   "source": [
    "\n",
    "price + _\n",
    "#In interactive mode, the last printed expression is assigned to the variable _.\n",
    "#This means that when you are using Python as a desk calculator,\n",
    "#it is somewhat easier to continue calculations, for example:"
   ]
  },
  {
   "cell_type": "code",
   "execution_count": 67,
   "id": "04e869b8-5dc1-48c2-97fb-4e5a855a0fff",
   "metadata": {},
   "outputs": [
    {
     "data": {
      "text/plain": [
       "140.0"
      ]
     },
     "execution_count": 67,
     "metadata": {},
     "output_type": "execute_result"
    }
   ],
   "source": [
    "round(_, 2)"
   ]
  },
  {
   "cell_type": "code",
   "execution_count": 68,
   "id": "eb4a44e9-e717-4439-b9e1-a556608e4af7",
   "metadata": {},
   "outputs": [
    {
     "data": {
      "text/plain": [
       "140.12"
      ]
     },
     "execution_count": 68,
     "metadata": {},
     "output_type": "execute_result"
    }
   ],
   "source": [
    "round(140.123, 2)"
   ]
  },
  {
   "cell_type": "code",
   "execution_count": null,
   "id": "9be0ffb7-e2f8-4365-9112-7f07c51fb64e",
   "metadata": {},
   "outputs": [],
   "source": []
  }
 ],
 "metadata": {
  "kernelspec": {
   "display_name": "Python 3 (ipykernel)",
   "language": "python",
   "name": "python3"
  },
  "language_info": {
   "codemirror_mode": {
    "name": "ipython",
    "version": 3
   },
   "file_extension": ".py",
   "mimetype": "text/x-python",
   "name": "python",
   "nbconvert_exporter": "python",
   "pygments_lexer": "ipython3",
   "version": "3.13.5"
  }
 },
 "nbformat": 4,
 "nbformat_minor": 5
}
