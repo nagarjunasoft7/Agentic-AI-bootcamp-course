{
 "cells": [
  {
   "cell_type": "code",
   "execution_count": 37,
   "id": "c6a3fdd1-f222-45e1-8ce6-6d376ccb3ae7",
   "metadata": {},
   "outputs": [
    {
     "name": "stdout",
     "output_type": "stream",
     "text": [
      "Same Rules for Function & Class Names in Python\n"
     ]
    }
   ],
   "source": [
    "\"\"\" Rule Description\n",
    "\n",
    "✅ Must begin with a letter (A-Z or a-z) or underscore _ \n",
    "✅ Can contain letters, numbers, and underscores \n",
    "❌ Cannot start with a number \n",
    "❌ Cannot contain special characters (@, #, -, etc.) \n",
    "❌ Cannot use Python reserved keywords (class, def, if, for, etc.) \"\"\"\n",
    "\n",
    "print('Same Rules for Function & Class Names in Python')"
   ]
  },
  {
   "cell_type": "markdown",
   "id": "d2ba2d42-30b6-422d-9d6c-852178dba5a9",
   "metadata": {},
   "source": [
    "### Start with a letter or underscore:\n",
    "##### Variable names must begin with an uppercase or lowercase letter or an underscore (_). They cannot start with a digit (0-9)."
   ]
  },
  {
   "cell_type": "code",
   "execution_count": 7,
   "id": "1326c454-212c-41e1-9d81-e83376d78fb0",
   "metadata": {},
   "outputs": [
    {
     "data": {
      "text/plain": [
       "10"
      ]
     },
     "execution_count": 7,
     "metadata": {},
     "output_type": "execute_result"
    }
   ],
   "source": [
    "a = 10\n",
    "a"
   ]
  },
  {
   "cell_type": "code",
   "execution_count": 8,
   "id": "d01cdb0f-e630-42b2-aa4c-92fc2a80a050",
   "metadata": {},
   "outputs": [
    {
     "data": {
      "text/plain": [
       "10"
      ]
     },
     "execution_count": 8,
     "metadata": {},
     "output_type": "execute_result"
    }
   ],
   "source": [
    "A = 10\n",
    "A"
   ]
  },
  {
   "cell_type": "code",
   "execution_count": 13,
   "id": "3e44c459-5c35-4e18-a57a-13f185a0d3aa",
   "metadata": {},
   "outputs": [
    {
     "data": {
      "text/plain": [
       "'arjun'"
      ]
     },
     "execution_count": 13,
     "metadata": {},
     "output_type": "execute_result"
    }
   ],
   "source": [
    "_name ='arjun'\n",
    "_name"
   ]
  },
  {
   "cell_type": "markdown",
   "id": "73cc348d-ae6b-4b79-a5c3-789c63df444e",
   "metadata": {},
   "source": [
    "### After the initial letter or underscore, variable names can contain letters (A-Z, a-z), digits (0-9), and underscores (_). No other special characters (like hyphens, spaces, or symbols) are permitted.\n",
    "\n",
    "##### A variable name cannot start with a number\n",
    "##### A variable name can only contain alpha-numeric characters and underscores (A-z, 0-9, and _ )"
   ]
  },
  {
   "cell_type": "code",
   "execution_count": 14,
   "id": "bec36d31-fee1-4159-a5cc-9ac94417b715",
   "metadata": {},
   "outputs": [
    {
     "data": {
      "text/plain": [
       "30"
      ]
     },
     "execution_count": 14,
     "metadata": {},
     "output_type": "execute_result"
    }
   ],
   "source": [
    "ab = 30\n",
    "ab"
   ]
  },
  {
   "cell_type": "code",
   "execution_count": 18,
   "id": "01277a55-f0f9-4f27-b08a-31696f34e1c1",
   "metadata": {},
   "outputs": [
    {
     "ename": "SyntaxError",
     "evalue": "invalid syntax (2027540441.py, line 1)",
     "output_type": "error",
     "traceback": [
      "\u001b[1;36m  Cell \u001b[1;32mIn[18], line 1\u001b[1;36m\u001b[0m\n\u001b[1;33m    a( = 40\u001b[0m\n\u001b[1;37m       ^\u001b[0m\n\u001b[1;31mSyntaxError\u001b[0m\u001b[1;31m:\u001b[0m invalid syntax\n"
     ]
    }
   ],
   "source": [
    "a( = 40\n"
   ]
  },
  {
   "cell_type": "code",
   "execution_count": 17,
   "id": "9f7416ad-8d6f-4089-acde-6c89b6aad2e7",
   "metadata": {
    "scrolled": true
   },
   "outputs": [
    {
     "ename": "SyntaxError",
     "evalue": "invalid syntax (1496028478.py, line 1)",
     "output_type": "error",
     "traceback": [
      "\u001b[1;36m  Cell \u001b[1;32mIn[17], line 1\u001b[1;36m\u001b[0m\n\u001b[1;33m    b- = 30\u001b[0m\n\u001b[1;37m       ^\u001b[0m\n\u001b[1;31mSyntaxError\u001b[0m\u001b[1;31m:\u001b[0m invalid syntax\n"
     ]
    }
   ],
   "source": [
    "b- = 30"
   ]
  },
  {
   "cell_type": "code",
   "execution_count": 24,
   "id": "e85cff11-dac2-43ca-8778-9b4cad057227",
   "metadata": {},
   "outputs": [
    {
     "ename": "SyntaxError",
     "evalue": "invalid decimal literal (2448038799.py, line 1)",
     "output_type": "error",
     "traceback": [
      "\u001b[1;36m  Cell \u001b[1;32mIn[24], line 1\u001b[1;36m\u001b[0m\n\u001b[1;33m    123abc = 100\u001b[0m\n\u001b[1;37m      ^\u001b[0m\n\u001b[1;31mSyntaxError\u001b[0m\u001b[1;31m:\u001b[0m invalid decimal literal\n"
     ]
    }
   ],
   "source": [
    "123abc = 100"
   ]
  },
  {
   "cell_type": "markdown",
   "id": "8ab2b9d1-3940-4c10-9058-cfe814a69d52",
   "metadata": {},
   "source": [
    "### Case-sensitive: \n",
    "##### Python variable names are case-sensitive. myVar, myvar, and MyVar are all treated as distinct variables."
   ]
  },
  {
   "cell_type": "code",
   "execution_count": 21,
   "id": "813cdacc-fdca-41b9-abc5-aead85880134",
   "metadata": {},
   "outputs": [
    {
     "name": "stdout",
     "output_type": "stream",
     "text": [
      "10\n",
      "20\n",
      "30\n",
      "40\n"
     ]
    }
   ],
   "source": [
    "myVar =10\n",
    "myvar = 20\n",
    "MyVar = 30\n",
    "Myvar = 40\n",
    "print(myVar)\n",
    "print(myvar)\n",
    "print(MyVar)\n",
    "print(Myvar)"
   ]
  },
  {
   "cell_type": "markdown",
   "id": "d7b10255-e6f9-499e-8535-1a93bec5e24c",
   "metadata": {},
   "source": [
    "### Avoid Python keywords:\n",
    "##### Variable names cannot be any of Python's reserved keywords (e.g., if, else, for, while, print, def, class, True, False, None)."
   ]
  },
  {
   "cell_type": "code",
   "execution_count": 23,
   "id": "47668d0d-8699-4e27-b844-8e1ade84546f",
   "metadata": {},
   "outputs": [
    {
     "ename": "SyntaxError",
     "evalue": "invalid syntax (1636121873.py, line 1)",
     "output_type": "error",
     "traceback": [
      "\u001b[1;36m  Cell \u001b[1;32mIn[23], line 1\u001b[1;36m\u001b[0m\n\u001b[1;33m    while = 20\u001b[0m\n\u001b[1;37m          ^\u001b[0m\n\u001b[1;31mSyntaxError\u001b[0m\u001b[1;31m:\u001b[0m invalid syntax\n"
     ]
    }
   ],
   "source": [
    "while = 20\n",
    "while"
   ]
  },
  {
   "cell_type": "markdown",
   "id": "7b94bcf8-dff1-4ce2-8060-b1bfe46dcd93",
   "metadata": {},
   "source": [
    "## No spaces:"
   ]
  },
  {
   "cell_type": "code",
   "execution_count": null,
   "id": "dcab4502-4a49-408c-9a72-efbfddef179b",
   "metadata": {},
   "outputs": [],
   "source": [
    "#Valid: age, user_name, _private_var, data123\n",
    "#Invalid: 123data (starts with a digit), my-variable (contains a hyphen), my variable (contains a space), for (is a keyword)"
   ]
  },
  {
   "cell_type": "markdown",
   "id": "68851b45-5faa-4144-8143-d60f3c3cf396",
   "metadata": {},
   "source": [
    "# Python Comments"
   ]
  },
  {
   "cell_type": "markdown",
   "id": "aac7bbb9-4626-419f-885f-598eea1a5133",
   "metadata": {},
   "source": [
    "### Single Line Comment"
   ]
  },
  {
   "cell_type": "code",
   "execution_count": 28,
   "id": "4563dfa5-a3a6-48d2-870a-e56e3e10c00a",
   "metadata": {},
   "outputs": [
    {
     "data": {
      "text/plain": [
       "15"
      ]
     },
     "execution_count": 28,
     "metadata": {},
     "output_type": "execute_result"
    }
   ],
   "source": [
    "# addition of two numbers\n",
    "10+5"
   ]
  },
  {
   "cell_type": "code",
   "execution_count": 29,
   "id": "0dae9e39-dd6c-491c-bbc2-23b4d6684db8",
   "metadata": {},
   "outputs": [
    {
     "name": "stdout",
     "output_type": "stream",
     "text": [
      "Hello, World!\n"
     ]
    }
   ],
   "source": [
    "print(\"Hello, World!\") #This is a comment"
   ]
  },
  {
   "cell_type": "markdown",
   "id": "f76d49af-a61a-4abc-9f82-4875486fbf25",
   "metadata": {},
   "source": [
    "### Multi Line Comment"
   ]
  },
  {
   "cell_type": "code",
   "execution_count": 30,
   "id": "ec101957-afe1-4402-a78b-e6d12e7014ee",
   "metadata": {},
   "outputs": [
    {
     "name": "stdout",
     "output_type": "stream",
     "text": [
      "Hello, World!\n"
     ]
    }
   ],
   "source": [
    "#This is a comment\n",
    "#written in\n",
    "#more than just one line\n",
    "print(\"Hello, World!\")"
   ]
  },
  {
   "cell_type": "markdown",
   "id": "0e75e7e0-94e4-4a99-85b3-2f4e9c19bfd1",
   "metadata": {},
   "source": [
    "### you can add a multiline string (triple quotes) in your code, and place your comment inside it. Since, Python will ignore string literals that are not assigned to a variable, "
   ]
  },
  {
   "cell_type": "code",
   "execution_count": 31,
   "id": "baf7d553-78cf-4209-bb49-97e0b43e366c",
   "metadata": {},
   "outputs": [
    {
     "name": "stdout",
     "output_type": "stream",
     "text": [
      "Hello, World!\n"
     ]
    }
   ],
   "source": [
    "\"\"\"\n",
    "This is a comment\n",
    "written in\n",
    "more than just one line\n",
    "\"\"\"\n",
    "print(\"Hello, World!\")"
   ]
  },
  {
   "cell_type": "code",
   "execution_count": 71,
   "id": "926e5d1b-b80a-4603-8110-d15db4ff6cdc",
   "metadata": {},
   "outputs": [
    {
     "name": "stdout",
     "output_type": "stream",
     "text": [
      "valid funtion name are - my_function, calculateTotal, _helper_function, function123, _data_processor_v2\n",
      "\n",
      "Invalid funtion name are - 123function, 2_process_data, my-function, calculate total, print! \n"
     ]
    }
   ],
   "source": [
    "\"\"\"\n",
    "\n",
    "🔸 2. Function Naming Conventions (PEP 8)\n",
    "\n",
    "    Rule Example\n",
    "        \n",
    "        Use lowercase letters def calculate_total():\n",
    "        Use underscores for multiple words def get_user_info():\n",
    "        Avoid using single-character names (except in trivial contexts) def f() ❌\n",
    "        Python distinguishes between uppercase and lowercase letters. myFunction is different from myfunction.\n",
    "        \n",
    "        Prefix with _ for internal/private functions def _helper():\n",
    "        Use __dunder__ format only for special methods def __init__():\n",
    "\n",
    "\"\"\"\n",
    "print(\"valid funtion name are - my_function, calculateTotal, _helper_function, function123, _data_processor_v2\")\n",
    "print()\n",
    "print(\"Invalid funtion name are - 123function, 2_process_data, my-function, calculate total, print! \")"
   ]
  },
  {
   "cell_type": "markdown",
   "id": "33ac35cd-4cdd-4294-805b-9f6a0fec74f8",
   "metadata": {},
   "source": [
    "## Lowercase with underscores (snake_case): Function names should generally be lowercase, with words separated by underscores for readability"
   ]
  },
  {
   "cell_type": "code",
   "execution_count": 73,
   "id": "9a250aa5-5bfe-4a71-8e96-e14e652abce8",
   "metadata": {},
   "outputs": [
    {
     "name": "stdout",
     "output_type": "stream",
     "text": [
      "calculate_average, get_user_input\n"
     ]
    }
   ],
   "source": [
    "print(\"calculate_average, get_user_input\")"
   ]
  },
  {
   "cell_type": "code",
   "execution_count": 2,
   "id": "b48443ff-fbd2-49fb-b8e3-fc8f3df58121",
   "metadata": {},
   "outputs": [
    {
     "name": "stdout",
     "output_type": "stream",
     "text": [
      " valid class name are - MyClass, EmployeeInfo, TotalCostPrice\n",
      " invalid class name are - 123Class, My-Class, Class@Name, Class Name\n"
     ]
    }
   ],
   "source": [
    "\"\"\"\n",
    "\n",
    "\n",
    "\n",
    "🔸 3. Class Naming Conventions (PEP 8)\n",
    "\n",
    "    Rule Example\n",
    "        \n",
    "        Use CamelCase (PascalCase) class CustomerData:\n",
    "        Avoid underscores or lowercase-only names class customer_data: ❌\n",
    "        Prefix with _ for internal/private classes class _InternalLogger:\n",
    "        Avoid using built-in names (str, list, dict, etc.) class str: ❌\n",
    "        MyClass and myclass are considered distinct class names.\n",
    "\n",
    "\"\"\"\n",
    "print(\" valid class name are - MyClass, EmployeeInfo, TotalCostPrice\")\n",
    "print(\" invalid class name are - 123Class, My-Class, Class@Name, Class Name\")"
   ]
  },
  {
   "cell_type": "code",
   "execution_count": 1,
   "id": "895e4dfa-69f6-45b6-b3fe-ed0bb256b792",
   "metadata": {},
   "outputs": [],
   "source": [
    "# Valid Class Names\n",
    "class MyClass:\n",
    "    pass\n",
    "\n",
    "class EmployeeInfo:\n",
    "    pass\n",
    "\n",
    "class _InternalClass: # Valid, but convention suggests this for internal use\n",
    "    pass\n",
    "\n",
    "# Invalid Class Names\n",
    "# class 123Invalid: # SyntaxError: invalid decimal literal\n",
    "#     pass\n",
    "\n",
    "# class Invalid-Class: # SyntaxError: can't assign to operator\n",
    "#     pass\n",
    "\n",
    "# class if: # SyntaxError: invalid syntax\n",
    "#     pass"
   ]
  },
  {
   "cell_type": "code",
   "execution_count": null,
   "id": "0c2c9be8-5fe6-46a4-8337-9798fc72acdb",
   "metadata": {},
   "outputs": [],
   "source": []
  }
 ],
 "metadata": {
  "kernelspec": {
   "display_name": "Python 3 (ipykernel)",
   "language": "python",
   "name": "python3"
  },
  "language_info": {
   "codemirror_mode": {
    "name": "ipython",
    "version": 3
   },
   "file_extension": ".py",
   "mimetype": "text/x-python",
   "name": "python",
   "nbconvert_exporter": "python",
   "pygments_lexer": "ipython3",
   "version": "3.13.5"
  }
 },
 "nbformat": 4,
 "nbformat_minor": 5
}
