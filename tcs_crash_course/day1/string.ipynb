{
 "cells": [
  {
   "cell_type": "markdown",
   "id": "a854fe4a-da88-4326-a427-0474e19f1daf",
   "metadata": {},
   "source": [
    "# Text"
   ]
  },
  {
   "cell_type": "code",
   "execution_count": 49,
   "id": "ef0ac78f-2758-4ade-939c-db070afaa88d",
   "metadata": {},
   "outputs": [
    {
     "data": {
      "text/plain": [
       "'test'"
      ]
     },
     "execution_count": 49,
     "metadata": {},
     "output_type": "execute_result"
    }
   ],
   "source": [
    "test = \"test\"\n",
    "test"
   ]
  },
  {
   "cell_type": "code",
   "execution_count": 50,
   "id": "18152942-146c-4bf1-a720-b0e3f1f1137b",
   "metadata": {},
   "outputs": [
    {
     "name": "stdout",
     "output_type": "stream",
     "text": [
      "test\n"
     ]
    }
   ],
   "source": [
    "print(\"test\")"
   ]
  },
  {
   "cell_type": "code",
   "execution_count": 51,
   "id": "8c07a091-c64c-4816-a2c5-12103e93f326",
   "metadata": {},
   "outputs": [
    {
     "name": "stdout",
     "output_type": "stream",
     "text": [
      "test\n"
     ]
    }
   ],
   "source": [
    "print('test')"
   ]
  },
  {
   "cell_type": "code",
   "execution_count": 11,
   "id": "56018376-7e39-492b-872b-ced486555dcf",
   "metadata": {},
   "outputs": [
    {
     "name": "stdout",
     "output_type": "stream",
     "text": [
      "Hello, world!\n",
      "Hello, world!\n"
     ]
    }
   ],
   "source": [
    "string_single_quotes = 'Hello, world!'\n",
    "string_double_quotes = \"Hello, world!\"\n",
    "\n",
    "print(string_single_quotes)\n",
    "print(string_double_quotes)"
   ]
  },
  {
   "cell_type": "code",
   "execution_count": 16,
   "id": "876eec4d-77a9-4d13-b22f-4510d5476d4e",
   "metadata": {},
   "outputs": [
    {
     "data": {
      "text/plain": [
       "True"
      ]
     },
     "execution_count": 16,
     "metadata": {},
     "output_type": "execute_result"
    }
   ],
   "source": [
    "string_single_quotes == string_double_quotes\n",
    "#Functionally, they are identical; "
   ]
  },
  {
   "cell_type": "code",
   "execution_count": 20,
   "id": "60189b0b-89eb-4bf3-a0b1-fca3e454c104",
   "metadata": {},
   "outputs": [
    {
     "data": {
      "text/plain": [
       "\"It's a beautiful day!\""
      ]
     },
     "execution_count": 20,
     "metadata": {},
     "output_type": "execute_result"
    }
   ],
   "source": [
    "message = \"It's a beautiful day!\"\n",
    "message"
   ]
  },
  {
   "cell_type": "markdown",
   "id": "d137af70-5363-42fc-b2a9-22e2f733ab8d",
   "metadata": {},
   "source": [
    "### When to use double quotes If "
   ]
  },
  {
   "cell_type": "code",
   "execution_count": 26,
   "id": "49c174c6-6ee5-454a-bdc1-45fb8b7f7d06",
   "metadata": {},
   "outputs": [
    {
     "ename": "SyntaxError",
     "evalue": "unterminated string literal (detected at line 1) (2637229228.py, line 1)",
     "output_type": "error",
     "traceback": [
      "\u001b[1;36m  Cell \u001b[1;32mIn[26], line 1\u001b[1;36m\u001b[0m\n\u001b[1;33m    message2 = 'It's a beautiful day!'\u001b[0m\n\u001b[1;37m                                     ^\u001b[0m\n\u001b[1;31mSyntaxError\u001b[0m\u001b[1;31m:\u001b[0m unterminated string literal (detected at line 1)\n"
     ]
    }
   ],
   "source": [
    "#When to use double quotes, If a string naturally contains single apostrophes or single quotes (e.g., in contractions like \"it's\" or when quoting text),\n",
    "\n",
    "message2 = 'It's a beautiful day!' \n",
    "message2 "
   ]
  },
  {
   "cell_type": "markdown",
   "id": "3fe47434-19cf-404e-907f-e6ee6f6ee707",
   "metadata": {},
   "source": [
    "## When to use single quotes: "
   ]
  },
  {
   "cell_type": "code",
   "execution_count": 34,
   "id": "8526c1f6-94d3-4bd7-a522-ee0d218a00a3",
   "metadata": {},
   "outputs": [
    {
     "data": {
      "text/plain": [
       "'He said, \"Hello there!\"'"
      ]
     },
     "execution_count": 34,
     "metadata": {},
     "output_type": "execute_result"
    }
   ],
   "source": [
    "#When to use single quote,  Conversely if a string contains double quotes, using single quotes for the string definition can improve readability\n",
    "\n",
    "correctquote = 'He said, \"Hello there!\"' # No escaping needed\n",
    "correctquote"
   ]
  },
  {
   "cell_type": "code",
   "execution_count": 35,
   "id": "ce9e8e0f-b3ae-45ca-8fd2-b2737c760b28",
   "metadata": {},
   "outputs": [
    {
     "ename": "SyntaxError",
     "evalue": "invalid syntax (2547996955.py, line 1)",
     "output_type": "error",
     "traceback": [
      "\u001b[1;36m  Cell \u001b[1;32mIn[35], line 1\u001b[1;36m\u001b[0m\n\u001b[1;33m    IncorrectQuote = \"He said, \"Hello there!\"\"\u001b[0m\n\u001b[1;37m                                ^\u001b[0m\n\u001b[1;31mSyntaxError\u001b[0m\u001b[1;31m:\u001b[0m invalid syntax\n"
     ]
    }
   ],
   "source": [
    "IncorrectQuote = \"He said, \"Hello there!\"\""
   ]
  },
  {
   "cell_type": "code",
   "execution_count": 43,
   "id": "aa48ab4c-22ba-49cb-aa0f-b78da8a0c386",
   "metadata": {},
   "outputs": [
    {
     "name": "stdout",
     "output_type": "stream",
     "text": [
      " arjun \n",
      " second \n"
     ]
    }
   ],
   "source": [
    "name = \" arjun \"\n",
    "Name2 = \" second \"\n",
    "print(name)\n",
    "print(Name2)"
   ]
  },
  {
   "cell_type": "code",
   "execution_count": 44,
   "id": "82a562d5-d83e-406f-8c25-26575fd19a6d",
   "metadata": {},
   "outputs": [
    {
     "name": "stdout",
     "output_type": "stream",
     "text": [
      "test\n"
     ]
    },
    {
     "data": {
      "text/plain": [
       "'test'"
      ]
     },
     "execution_count": 44,
     "metadata": {},
     "output_type": "execute_result"
    }
   ],
   "source": [
    "TripleQuote = '''test'''\n",
    "print(TripleQuote)\n",
    "TripleQuote"
   ]
  },
  {
   "cell_type": "code",
   "execution_count": 45,
   "id": "99560c3f-8667-4889-8210-6a6c7a66059f",
   "metadata": {},
   "outputs": [
    {
     "name": "stdout",
     "output_type": "stream",
     "text": [
      "test\n"
     ]
    },
    {
     "data": {
      "text/plain": [
       "'test'"
      ]
     },
     "execution_count": 45,
     "metadata": {},
     "output_type": "execute_result"
    }
   ],
   "source": [
    "TripleQuote2 = \"\"\"test\"\"\"\n",
    "print(TripleQuote2)\n",
    "TripleQuote2"
   ]
  },
  {
   "cell_type": "code",
   "execution_count": null,
   "id": "e119ef50-f7c4-441a-a9c4-f2238880733b",
   "metadata": {},
   "outputs": [],
   "source": []
  }
 ],
 "metadata": {
  "kernelspec": {
   "display_name": "Python 3 (ipykernel)",
   "language": "python",
   "name": "python3"
  },
  "language_info": {
   "codemirror_mode": {
    "name": "ipython",
    "version": 3
   },
   "file_extension": ".py",
   "mimetype": "text/x-python",
   "name": "python",
   "nbconvert_exporter": "python",
   "pygments_lexer": "ipython3",
   "version": "3.13.5"
  }
 },
 "nbformat": 4,
 "nbformat_minor": 5
}
